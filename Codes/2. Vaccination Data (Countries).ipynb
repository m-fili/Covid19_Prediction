{
 "cells": [
  {
   "cell_type": "code",
   "execution_count": 1,
   "metadata": {},
   "outputs": [],
   "source": [
    "import numpy as np\n",
    "import pandas as pd"
   ]
  },
  {
   "cell_type": "markdown",
   "metadata": {},
   "source": [
    "# Get Data "
   ]
  },
  {
   "cell_type": "markdown",
   "metadata": {},
   "source": [
    "https://github.com/owid/covid-19-data/tree/master/public/data/vaccinations\n",
    "\n",
    "**daily_vaccinations**: new doses administered per day (7-day smoothed). For countries that don't report data on a daily basis, we assume that doses changed equally on a daily basis over any periods in which no data was reported. This produces a complete series of daily figures, which is then averaged over a rolling 7-day window. An example of how we perform this calculation can be found here.\n",
    "\n",
    "**people_vaccinated**: total number of people who received at least one vaccine dose. If a person receives the first dose of a 2-dose vaccine, this metric goes up by 1. If they receive the second dose, the metric stays the same.\n",
    "\n",
    "**people_fully_vaccinated**: total number of people who received all doses prescribed by the vaccination protocol. If a person receives the first dose of a 2-dose vaccine, this metric stays the same. If they receive the second dose, the metric goes up by 1."
   ]
  },
  {
   "cell_type": "markdown",
   "metadata": {},
   "source": [
    "This dataset includes some subnational locations (England, Northern Ireland, Scotland, Wales, Northern Cyprus…) and international aggregates (World, continents, European Union…). They can be identified by their iso_code that starts with OWID_."
   ]
  },
  {
   "cell_type": "code",
   "execution_count": 21,
   "metadata": {},
   "outputs": [],
   "source": [
    "url = 'https://raw.githubusercontent.com/owid/covid-19-data/master/public/data/vaccinations/vaccinations.csv'"
   ]
  },
  {
   "cell_type": "code",
   "execution_count": 22,
   "metadata": {},
   "outputs": [],
   "source": [
    "vaccination = pd.read_csv(url)"
   ]
  },
  {
   "cell_type": "markdown",
   "metadata": {},
   "source": [
    "### Filter Features"
   ]
  },
  {
   "cell_type": "code",
   "execution_count": 25,
   "metadata": {},
   "outputs": [
    {
     "data": {
      "text/plain": [
       "Index(['location', 'iso_code', 'date', 'total_vaccinations',\n",
       "       'people_vaccinated', 'people_fully_vaccinated',\n",
       "       'daily_vaccinations_raw', 'daily_vaccinations',\n",
       "       'total_vaccinations_per_hundred', 'people_vaccinated_per_hundred',\n",
       "       'people_fully_vaccinated_per_hundred',\n",
       "       'daily_vaccinations_per_million'],\n",
       "      dtype='object')"
      ]
     },
     "execution_count": 25,
     "metadata": {},
     "output_type": "execute_result"
    }
   ],
   "source": [
    "vaccination.columns"
   ]
  },
  {
   "cell_type": "code",
   "execution_count": 26,
   "metadata": {},
   "outputs": [],
   "source": [
    "cols = ['location', 'iso_code', 'date', 'people_vaccinated', 'people_fully_vaccinated', 'daily_vaccinations']"
   ]
  },
  {
   "cell_type": "code",
   "execution_count": 27,
   "metadata": {},
   "outputs": [],
   "source": [
    "vaccination = vaccination[cols]"
   ]
  },
  {
   "cell_type": "code",
   "execution_count": 29,
   "metadata": {},
   "outputs": [
    {
     "data": {
      "text/html": [
       "<div>\n",
       "<style scoped>\n",
       "    .dataframe tbody tr th:only-of-type {\n",
       "        vertical-align: middle;\n",
       "    }\n",
       "\n",
       "    .dataframe tbody tr th {\n",
       "        vertical-align: top;\n",
       "    }\n",
       "\n",
       "    .dataframe thead th {\n",
       "        text-align: right;\n",
       "    }\n",
       "</style>\n",
       "<table border=\"1\" class=\"dataframe\">\n",
       "  <thead>\n",
       "    <tr style=\"text-align: right;\">\n",
       "      <th></th>\n",
       "      <th>location</th>\n",
       "      <th>iso_code</th>\n",
       "      <th>date</th>\n",
       "      <th>people_vaccinated</th>\n",
       "      <th>people_fully_vaccinated</th>\n",
       "      <th>daily_vaccinations</th>\n",
       "    </tr>\n",
       "  </thead>\n",
       "  <tbody>\n",
       "    <tr>\n",
       "      <td>1424</td>\n",
       "      <td>Argentina</td>\n",
       "      <td>ARG</td>\n",
       "      <td>2021-07-12</td>\n",
       "      <td>19822638.0</td>\n",
       "      <td>5039549.0</td>\n",
       "      <td>345437.0</td>\n",
       "    </tr>\n",
       "    <tr>\n",
       "      <td>23386</td>\n",
       "      <td>Panama</td>\n",
       "      <td>PAN</td>\n",
       "      <td>2021-05-09</td>\n",
       "      <td>514959.0</td>\n",
       "      <td>255610.0</td>\n",
       "      <td>11845.0</td>\n",
       "    </tr>\n",
       "    <tr>\n",
       "      <td>24641</td>\n",
       "      <td>Romania</td>\n",
       "      <td>ROU</td>\n",
       "      <td>2021-03-01</td>\n",
       "      <td>946781.0</td>\n",
       "      <td>618240.0</td>\n",
       "      <td>22276.0</td>\n",
       "    </tr>\n",
       "    <tr>\n",
       "      <td>9511</td>\n",
       "      <td>Europe</td>\n",
       "      <td>OWID_EUR</td>\n",
       "      <td>2021-04-12</td>\n",
       "      <td>117573839.0</td>\n",
       "      <td>43594834.0</td>\n",
       "      <td>3198198.0</td>\n",
       "    </tr>\n",
       "    <tr>\n",
       "      <td>7717</td>\n",
       "      <td>Denmark</td>\n",
       "      <td>DNK</td>\n",
       "      <td>2021-04-24</td>\n",
       "      <td>1202059.0</td>\n",
       "      <td>568808.0</td>\n",
       "      <td>31853.0</td>\n",
       "    </tr>\n",
       "  </tbody>\n",
       "</table>\n",
       "</div>"
      ],
      "text/plain": [
       "        location  iso_code        date  people_vaccinated  \\\n",
       "1424   Argentina       ARG  2021-07-12         19822638.0   \n",
       "23386     Panama       PAN  2021-05-09           514959.0   \n",
       "24641    Romania       ROU  2021-03-01           946781.0   \n",
       "9511      Europe  OWID_EUR  2021-04-12        117573839.0   \n",
       "7717     Denmark       DNK  2021-04-24          1202059.0   \n",
       "\n",
       "       people_fully_vaccinated  daily_vaccinations  \n",
       "1424                 5039549.0            345437.0  \n",
       "23386                 255610.0             11845.0  \n",
       "24641                 618240.0             22276.0  \n",
       "9511                43594834.0           3198198.0  \n",
       "7717                  568808.0             31853.0  "
      ]
     },
     "execution_count": 29,
     "metadata": {},
     "output_type": "execute_result"
    }
   ],
   "source": [
    "vaccination.sample(5)"
   ]
  },
  {
   "cell_type": "markdown",
   "metadata": {},
   "source": [
    "### Filter Countries"
   ]
  },
  {
   "cell_type": "code",
   "execution_count": null,
   "metadata": {},
   "outputs": [],
   "source": [
    "countries = ['Sweden', 'France']"
   ]
  },
  {
   "cell_type": "code",
   "execution_count": 37,
   "metadata": {},
   "outputs": [
    {
     "data": {
      "text/html": [
       "<div>\n",
       "<style scoped>\n",
       "    .dataframe tbody tr th:only-of-type {\n",
       "        vertical-align: middle;\n",
       "    }\n",
       "\n",
       "    .dataframe tbody tr th {\n",
       "        vertical-align: top;\n",
       "    }\n",
       "\n",
       "    .dataframe thead th {\n",
       "        text-align: right;\n",
       "    }\n",
       "</style>\n",
       "<table border=\"1\" class=\"dataframe\">\n",
       "  <thead>\n",
       "    <tr style=\"text-align: right;\">\n",
       "      <th></th>\n",
       "      <th>location</th>\n",
       "      <th>iso_code</th>\n",
       "      <th>date</th>\n",
       "      <th>people_vaccinated</th>\n",
       "      <th>people_fully_vaccinated</th>\n",
       "      <th>daily_vaccinations</th>\n",
       "    </tr>\n",
       "  </thead>\n",
       "  <tbody>\n",
       "    <tr>\n",
       "      <td>31393</td>\n",
       "      <td>United States</td>\n",
       "      <td>USA</td>\n",
       "      <td>2020-12-20</td>\n",
       "      <td>556208.0</td>\n",
       "      <td>NaN</td>\n",
       "      <td>NaN</td>\n",
       "    </tr>\n",
       "    <tr>\n",
       "      <td>31394</td>\n",
       "      <td>United States</td>\n",
       "      <td>USA</td>\n",
       "      <td>2020-12-21</td>\n",
       "      <td>614117.0</td>\n",
       "      <td>NaN</td>\n",
       "      <td>57909.0</td>\n",
       "    </tr>\n",
       "    <tr>\n",
       "      <td>31395</td>\n",
       "      <td>United States</td>\n",
       "      <td>USA</td>\n",
       "      <td>2020-12-22</td>\n",
       "      <td>NaN</td>\n",
       "      <td>NaN</td>\n",
       "      <td>127432.0</td>\n",
       "    </tr>\n",
       "    <tr>\n",
       "      <td>31396</td>\n",
       "      <td>United States</td>\n",
       "      <td>USA</td>\n",
       "      <td>2020-12-23</td>\n",
       "      <td>1008025.0</td>\n",
       "      <td>NaN</td>\n",
       "      <td>150606.0</td>\n",
       "    </tr>\n",
       "    <tr>\n",
       "      <td>31397</td>\n",
       "      <td>United States</td>\n",
       "      <td>USA</td>\n",
       "      <td>2020-12-24</td>\n",
       "      <td>NaN</td>\n",
       "      <td>NaN</td>\n",
       "      <td>191001.0</td>\n",
       "    </tr>\n",
       "    <tr>\n",
       "      <td>...</td>\n",
       "      <td>...</td>\n",
       "      <td>...</td>\n",
       "      <td>...</td>\n",
       "      <td>...</td>\n",
       "      <td>...</td>\n",
       "      <td>...</td>\n",
       "    </tr>\n",
       "    <tr>\n",
       "      <td>31594</td>\n",
       "      <td>United States</td>\n",
       "      <td>USA</td>\n",
       "      <td>2021-07-09</td>\n",
       "      <td>183542871.0</td>\n",
       "      <td>158629431.0</td>\n",
       "      <td>593848.0</td>\n",
       "    </tr>\n",
       "    <tr>\n",
       "      <td>31595</td>\n",
       "      <td>United States</td>\n",
       "      <td>USA</td>\n",
       "      <td>2021-07-10</td>\n",
       "      <td>183836917.0</td>\n",
       "      <td>158954417.0</td>\n",
       "      <td>513550.0</td>\n",
       "    </tr>\n",
       "    <tr>\n",
       "      <td>31596</td>\n",
       "      <td>United States</td>\n",
       "      <td>USA</td>\n",
       "      <td>2021-07-11</td>\n",
       "      <td>184132768.0</td>\n",
       "      <td>159266536.0</td>\n",
       "      <td>506771.0</td>\n",
       "    </tr>\n",
       "    <tr>\n",
       "      <td>31597</td>\n",
       "      <td>United States</td>\n",
       "      <td>USA</td>\n",
       "      <td>2021-07-12</td>\n",
       "      <td>184365333.0</td>\n",
       "      <td>159499224.0</td>\n",
       "      <td>527353.0</td>\n",
       "    </tr>\n",
       "    <tr>\n",
       "      <td>31598</td>\n",
       "      <td>United States</td>\n",
       "      <td>USA</td>\n",
       "      <td>2021-07-13</td>\n",
       "      <td>184543821.0</td>\n",
       "      <td>159675163.0</td>\n",
       "      <td>532556.0</td>\n",
       "    </tr>\n",
       "  </tbody>\n",
       "</table>\n",
       "<p>206 rows × 6 columns</p>\n",
       "</div>"
      ],
      "text/plain": [
       "            location iso_code        date  people_vaccinated  \\\n",
       "31393  United States      USA  2020-12-20           556208.0   \n",
       "31394  United States      USA  2020-12-21           614117.0   \n",
       "31395  United States      USA  2020-12-22                NaN   \n",
       "31396  United States      USA  2020-12-23          1008025.0   \n",
       "31397  United States      USA  2020-12-24                NaN   \n",
       "...              ...      ...         ...                ...   \n",
       "31594  United States      USA  2021-07-09        183542871.0   \n",
       "31595  United States      USA  2021-07-10        183836917.0   \n",
       "31596  United States      USA  2021-07-11        184132768.0   \n",
       "31597  United States      USA  2021-07-12        184365333.0   \n",
       "31598  United States      USA  2021-07-13        184543821.0   \n",
       "\n",
       "       people_fully_vaccinated  daily_vaccinations  \n",
       "31393                      NaN                 NaN  \n",
       "31394                      NaN             57909.0  \n",
       "31395                      NaN            127432.0  \n",
       "31396                      NaN            150606.0  \n",
       "31397                      NaN            191001.0  \n",
       "...                        ...                 ...  \n",
       "31594              158629431.0            593848.0  \n",
       "31595              158954417.0            513550.0  \n",
       "31596              159266536.0            506771.0  \n",
       "31597              159499224.0            527353.0  \n",
       "31598              159675163.0            532556.0  \n",
       "\n",
       "[206 rows x 6 columns]"
      ]
     },
     "execution_count": 37,
     "metadata": {},
     "output_type": "execute_result"
    }
   ],
   "source": [
    "vaccination.loc[vaccination.location == 'United States']"
   ]
  },
  {
   "cell_type": "markdown",
   "metadata": {},
   "source": [
    "### Save"
   ]
  },
  {
   "cell_type": "code",
   "execution_count": 30,
   "metadata": {},
   "outputs": [],
   "source": [
    "vaccination.to_csv('../Data/Vaccination.csv')"
   ]
  }
 ],
 "metadata": {
  "kernelspec": {
   "display_name": "Python 3",
   "language": "python",
   "name": "python3"
  },
  "language_info": {
   "codemirror_mode": {
    "name": "ipython",
    "version": 3
   },
   "file_extension": ".py",
   "mimetype": "text/x-python",
   "name": "python",
   "nbconvert_exporter": "python",
   "pygments_lexer": "ipython3",
   "version": "3.8.8"
  }
 },
 "nbformat": 4,
 "nbformat_minor": 2
}
