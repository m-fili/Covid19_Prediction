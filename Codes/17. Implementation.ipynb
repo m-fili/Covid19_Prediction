{
 "cells": [
  {
   "cell_type": "markdown",
   "id": "c3f77df3",
   "metadata": {},
   "source": [
    "# Packages"
   ]
  },
  {
   "cell_type": "code",
   "execution_count": 1,
   "id": "03a6f497",
   "metadata": {},
   "outputs": [],
   "source": [
    "import numpy as np\n",
    "import pandas as pd\n",
    "\n",
    "%matplotlib inline\n",
    "import matplotlib.pyplot as plt\n",
    "\n",
    "from preprocessing import filter_country, colnames_generator, Create_TrainTest\n",
    "from prediction import evaluate, onestep_prediction, multistep_prediction, plot\n",
    "from prediction import train_lasso, train_ridge\n",
    "\n",
    "import keras\n",
    "import keras_tuner as kt"
   ]
  },
  {
   "cell_type": "markdown",
   "id": "d36ca113",
   "metadata": {},
   "source": [
    "# Data "
   ]
  },
  {
   "cell_type": "code",
   "execution_count": 2,
   "id": "b7a70a71",
   "metadata": {},
   "outputs": [
    {
     "name": "stdout",
     "output_type": "stream",
     "text": [
      "<class 'pandas.core.frame.DataFrame'>\n",
      "Int64Index: 28407 entries, 0 to 28406\n",
      "Data columns (total 39 columns):\n",
      " #   Column                                Non-Null Count  Dtype         \n",
      "---  ------                                --------------  -----         \n",
      " 0   CountryName                           28407 non-null  object        \n",
      " 1   Date                                  28407 non-null  datetime64[ns]\n",
      " 2   ConfirmedCases                        28407 non-null  int64         \n",
      " 3   ConfirmedDeaths                       28407 non-null  int64         \n",
      " 4   C1_School closing                     28407 non-null  int64         \n",
      " 5   C2_Workplace closing                  28407 non-null  int64         \n",
      " 6   C3_Cancel public events               28407 non-null  int64         \n",
      " 7   C4_Restrictions on gatherings         28407 non-null  int64         \n",
      " 8   C5_Close public transport             28407 non-null  int64         \n",
      " 9   C6_Stay at home requirements          28407 non-null  int64         \n",
      " 10  C7_Restrictions on internal movement  28407 non-null  int64         \n",
      " 11  C8_International travel controls      28407 non-null  int64         \n",
      " 12  E1_Income support                     28407 non-null  int64         \n",
      " 13  E2_Debt/contract relief               28407 non-null  int64         \n",
      " 14  H1_Public information campaigns       28407 non-null  int64         \n",
      " 15  H2_Testing policy                     28407 non-null  int64         \n",
      " 16  H3_Contact tracing                    28407 non-null  int64         \n",
      " 17  H6_Facial Coverings                   28407 non-null  int64         \n",
      " 18  H7_Vaccination policy                 28407 non-null  int64         \n",
      " 19  H8_Protection of elderly people       28407 non-null  int64         \n",
      " 20  Population2020                        28407 non-null  int64         \n",
      " 21  NewCases                              28407 non-null  float64       \n",
      " 22  NewDeaths                             28407 non-null  float64       \n",
      " 23  SmoothNewCases                        28407 non-null  float64       \n",
      " 24  SmoothNewDeaths                       28407 non-null  float64       \n",
      " 25  CaseRatio                             28407 non-null  float64       \n",
      " 26  DeathRatio                            28407 non-null  float64       \n",
      " 27  ProportionInfected                    28407 non-null  float64       \n",
      " 28  PredictionRatio                       28407 non-null  float64       \n",
      " 29  Vaccinated                            9399 non-null   float64       \n",
      " 30  FullyVaccinated                       9399 non-null   float64       \n",
      " 31  DailyVaccination                      9399 non-null   float64       \n",
      " 32  HeatIndexC                            20052 non-null  float64       \n",
      " 33  humidity                              20052 non-null  float64       \n",
      " 34  tempC                                 20052 non-null  float64       \n",
      " 35  windspeedKmph                         20052 non-null  float64       \n",
      " 36  precipMM                              20052 non-null  float64       \n",
      " 37  DewPointC                             20052 non-null  float64       \n",
      " 38  pressure                              20052 non-null  float64       \n",
      "dtypes: datetime64[ns](1), float64(18), int64(19), object(1)\n",
      "memory usage: 8.7+ MB\n"
     ]
    }
   ],
   "source": [
    "data = pd.read_csv('../Data/Covid19_Europe_20210710_preprocessed.csv', index_col=0, parse_dates=['Date'])\n",
    "data.info()"
   ]
  },
  {
   "cell_type": "markdown",
   "id": "d3467c24",
   "metadata": {},
   "source": [
    "# Implementation"
   ]
  },
  {
   "cell_type": "markdown",
   "id": "739ed088",
   "metadata": {},
   "source": [
    "__Variants Emergence__\n",
    "\n",
    "* Alpha $\\rightarrow$ Sep-2020 \n",
    "* Beta $\\rightarrow$ May-2020 \n",
    "* Gamma $\\rightarrow$ Nov-2020 \n",
    "* Delta $\\rightarrow$ Oct-2020\n",
    "* Lambda $\\rightarrow$ Dec-2020\n",
    "* Mu $\\rightarrow$ Jan-2021"
   ]
  },
  {
   "cell_type": "markdown",
   "id": "ca4a37d9",
   "metadata": {},
   "source": [
    "### 1. Extrcating data for each country"
   ]
  },
  {
   "cell_type": "code",
   "execution_count": 40,
   "id": "65b56f06",
   "metadata": {},
   "outputs": [],
   "source": [
    "# Please add the necesary columns here\n",
    "\n",
    "COLS = ['C1_School closing', 'C2_Workplace closing', 'C3_Cancel public events', 'C4_Restrictions on gatherings', \n",
    "        'C6_Stay at home requirements', 'H2_Testing policy', 'H3_Contact tracing', 'H6_Facial Coverings', \n",
    "        'H7_Vaccination policy'] "
   ]
  },
  {
   "cell_type": "code",
   "execution_count": 41,
   "id": "5a873e83",
   "metadata": {},
   "outputs": [],
   "source": [
    "T = 21       # days in past to include in training data\n",
    "n_test = 30   # days to include for future\n",
    "\n",
    "country_list = data.CountryName.sort_values().unique()\n",
    "\n",
    "X_all_train_dict = {}\n",
    "y_all_train_dict = {}\n",
    "X_all_test_dict = {}\n",
    "y_all_test_dict = {}\n",
    "\n",
    "\n",
    "for country in country_list:\n",
    "    \n",
    "    X, y, indx = filter_country(data, \n",
    "                                country=country, \n",
    "                                COLS=COLS,\n",
    "                                start_time='2019-01-01',   # Starting time\n",
    "                                end_time='2020-10-01', \n",
    "                                outcome='PredictionRatio' )\n",
    "    \n",
    "    \n",
    "    X_train, X_test, y_train, y_test, train_indx, test_indx = Create_TrainTest(X = X, \n",
    "                                                                               y = y,\n",
    "                                                                               method='single', \n",
    "                                                                               indx=indx, \n",
    "                                                                               T=T, \n",
    "                                                                               n_test=n_test)\n",
    "    \n",
    "    X_all_train_dict[country] = X_train\n",
    "    y_all_train_dict[country] = y_train\n",
    "    \n",
    "    X_all_test_dict[country] = X_test\n",
    "    y_all_test_dict[country] = y_test"
   ]
  },
  {
   "cell_type": "code",
   "execution_count": 49,
   "id": "46ea05ff",
   "metadata": {},
   "outputs": [
    {
     "data": {
      "text/plain": [
       "dict_keys(['Albania', 'Andorra', 'Austria', 'Azerbaijan', 'Belarus', 'Belgium', 'Bosnia and Herzegovina', 'Bulgaria', 'Croatia', 'Cyprus', 'Czech Republic', 'Denmark', 'England', 'Estonia', 'Faeroe Islands', 'Finland', 'France', 'Georgia', 'Germany', 'Greece', 'Hungary', 'Iceland', 'Ireland', 'Italy', 'Kazakhstan', 'Kosovo', 'Latvia', 'Liechtenstein', 'Lithuania', 'Luxembourg', 'Malta', 'Moldova', 'Monaco', 'Netherlands', 'Northern Ireland', 'Norway', 'Poland', 'Portugal', 'Romania', 'Russia', 'San Marino', 'Scotland', 'Serbia', 'Slovak Republic', 'Slovenia', 'Spain', 'Sweden', 'Switzerland', 'Turkey', 'Ukraine', 'Wales'])"
      ]
     },
     "execution_count": 49,
     "metadata": {},
     "output_type": "execute_result"
    }
   ],
   "source": [
    "X_all_train_dict.keys()"
   ]
  },
  {
   "cell_type": "code",
   "execution_count": 52,
   "id": "1fe40e8b",
   "metadata": {},
   "outputs": [
    {
     "data": {
      "text/plain": [
       "Timestamp('2020-08-25 00:00:00')"
      ]
     },
     "execution_count": 52,
     "metadata": {},
     "output_type": "execute_result"
    }
   ],
   "source": [
    "train_indx[-1]"
   ]
  },
  {
   "cell_type": "code",
   "execution_count": 53,
   "id": "87393a15",
   "metadata": {},
   "outputs": [
    {
     "data": {
      "text/plain": [
       "Timestamp('2020-09-01 00:00:00')"
      ]
     },
     "execution_count": 53,
     "metadata": {},
     "output_type": "execute_result"
    }
   ],
   "source": [
    "test_indx[-1]"
   ]
  },
  {
   "cell_type": "markdown",
   "id": "63f15374",
   "metadata": {},
   "source": [
    "### 2. Merging all countries"
   ]
  },
  {
   "cell_type": "code",
   "execution_count": 43,
   "id": "cb425d7b",
   "metadata": {},
   "outputs": [],
   "source": [
    "n_features = X.shape[1]\n",
    "\n",
    "X_all_train = np.array([]).reshape(-1, n_features*T)\n",
    "y_all_train = np.array([]).reshape(-1, 1)\n",
    "\n",
    "X_all_test = np.array([]).reshape(-1, n_features*T)\n",
    "y_all_test = np.array([]).reshape(-1, 1)\n",
    "\n",
    "\n",
    "for country in country_list:\n",
    "    X_all_train = np.concatenate((X_all_train, X_all_train_dict[country]))\n",
    "    y_all_train = np.concatenate((y_all_train, y_all_train_dict[country]))\n",
    "    \n",
    "    X_all_test = np.concatenate((X_all_test, X_all_test_dict[country]))\n",
    "    y_all_test= np.concatenate((y_all_test, y_all_test_dict[country]))"
   ]
  },
  {
   "cell_type": "code",
   "execution_count": 17,
   "id": "789b4d93",
   "metadata": {},
   "outputs": [
    {
     "data": {
      "text/plain": [
       "(11067, 231)"
      ]
     },
     "execution_count": 17,
     "metadata": {},
     "output_type": "execute_result"
    }
   ],
   "source": [
    "X_all_train.shape"
   ]
  },
  {
   "cell_type": "markdown",
   "id": "331d7de3",
   "metadata": {},
   "source": [
    "# 3. Lasso "
   ]
  },
  {
   "cell_type": "code",
   "execution_count": 8,
   "id": "ad9c4a5b",
   "metadata": {},
   "outputs": [],
   "source": [
    "lasso_trained_1step = train_lasso(X_all_train, \n",
    "                                  y_all_train, \n",
    "                                  scoring='neg_root_mean_squared_error', \n",
    "                                  n_cv=5)"
   ]
  },
  {
   "cell_type": "markdown",
   "id": "756004ec",
   "metadata": {},
   "source": [
    "### 3.1. Overall Performance "
   ]
  },
  {
   "cell_type": "code",
   "execution_count": 9,
   "id": "36089c71",
   "metadata": {},
   "outputs": [
    {
     "data": {
      "text/plain": [
       "RMSE     1.367878e-01\n",
       "MAE      6.946787e-02\n",
       "MAPE     2.405800e+13\n",
       "sMAPE    7.899660e-02\n",
       "R2       3.134684e-02\n",
       "Name: all, dtype: float64"
      ]
     },
     "execution_count": 9,
     "metadata": {},
     "output_type": "execute_result"
    }
   ],
   "source": [
    "lasso_pred_1step = lasso_trained_1step.predict(X_all_test)\n",
    "\n",
    "pd.Series(evaluate(y_true=y_all_test, \n",
    "          y_pred=lasso_pred_1step), \n",
    "          name='all')"
   ]
  },
  {
   "cell_type": "markdown",
   "id": "a6e65205",
   "metadata": {},
   "source": [
    "### 3.2. By Country "
   ]
  },
  {
   "cell_type": "code",
   "execution_count": 10,
   "id": "e3f12ea0",
   "metadata": {},
   "outputs": [],
   "source": [
    "lasso_1step_df = pd.DataFrame()\n",
    "\n",
    "for country in country_list:\n",
    "    temp = pd.Series(evaluate(y_true=y_all_test_dict[country], \n",
    "                              y_pred=lasso_trained_1step.predict(X_all_test_dict[country])), \n",
    "                     name=country)\n",
    "    lasso_1step_df = pd.concat([lasso_1step_df, temp], axis='columns')"
   ]
  },
  {
   "cell_type": "code",
   "execution_count": 11,
   "id": "6ed26a3a",
   "metadata": {},
   "outputs": [
    {
     "data": {
      "text/html": [
       "<div>\n",
       "<style scoped>\n",
       "    .dataframe tbody tr th:only-of-type {\n",
       "        vertical-align: middle;\n",
       "    }\n",
       "\n",
       "    .dataframe tbody tr th {\n",
       "        vertical-align: top;\n",
       "    }\n",
       "\n",
       "    .dataframe thead th {\n",
       "        text-align: right;\n",
       "    }\n",
       "</style>\n",
       "<table border=\"1\" class=\"dataframe\">\n",
       "  <thead>\n",
       "    <tr style=\"text-align: right;\">\n",
       "      <th></th>\n",
       "      <th>Albania</th>\n",
       "      <th>Andorra</th>\n",
       "      <th>Austria</th>\n",
       "      <th>Azerbaijan</th>\n",
       "      <th>Belarus</th>\n",
       "      <th>Belgium</th>\n",
       "      <th>Bosnia and Herzegovina</th>\n",
       "      <th>Bulgaria</th>\n",
       "      <th>Croatia</th>\n",
       "      <th>Cyprus</th>\n",
       "      <th>...</th>\n",
       "      <th>Scotland</th>\n",
       "      <th>Serbia</th>\n",
       "      <th>Slovak Republic</th>\n",
       "      <th>Slovenia</th>\n",
       "      <th>Spain</th>\n",
       "      <th>Sweden</th>\n",
       "      <th>Switzerland</th>\n",
       "      <th>Turkey</th>\n",
       "      <th>Ukraine</th>\n",
       "      <th>Wales</th>\n",
       "    </tr>\n",
       "  </thead>\n",
       "  <tbody>\n",
       "    <tr>\n",
       "      <th>RMSE</th>\n",
       "      <td>0.049083</td>\n",
       "      <td>0.249566</td>\n",
       "      <td>0.044838</td>\n",
       "      <td>0.021816</td>\n",
       "      <td>0.048869</td>\n",
       "      <td>0.049068</td>\n",
       "      <td>0.064430</td>\n",
       "      <td>0.073107</td>\n",
       "      <td>0.036705</td>\n",
       "      <td>0.217614</td>\n",
       "      <td>...</td>\n",
       "      <td>0.081049</td>\n",
       "      <td>0.054939</td>\n",
       "      <td>0.060267</td>\n",
       "      <td>0.046877</td>\n",
       "      <td>0.037902</td>\n",
       "      <td>0.173071</td>\n",
       "      <td>0.022472</td>\n",
       "      <td>0.013485</td>\n",
       "      <td>0.018840</td>\n",
       "      <td>0.061415</td>\n",
       "    </tr>\n",
       "    <tr>\n",
       "      <th>MAE</th>\n",
       "      <td>0.043588</td>\n",
       "      <td>0.155318</td>\n",
       "      <td>0.035811</td>\n",
       "      <td>0.019662</td>\n",
       "      <td>0.044908</td>\n",
       "      <td>0.036423</td>\n",
       "      <td>0.047072</td>\n",
       "      <td>0.057114</td>\n",
       "      <td>0.031505</td>\n",
       "      <td>0.176378</td>\n",
       "      <td>...</td>\n",
       "      <td>0.070424</td>\n",
       "      <td>0.042553</td>\n",
       "      <td>0.052862</td>\n",
       "      <td>0.038750</td>\n",
       "      <td>0.027947</td>\n",
       "      <td>0.140226</td>\n",
       "      <td>0.019226</td>\n",
       "      <td>0.010883</td>\n",
       "      <td>0.015274</td>\n",
       "      <td>0.052383</td>\n",
       "    </tr>\n",
       "    <tr>\n",
       "      <th>MAPE</th>\n",
       "      <td>0.045806</td>\n",
       "      <td>0.111950</td>\n",
       "      <td>0.036347</td>\n",
       "      <td>0.019911</td>\n",
       "      <td>0.043865</td>\n",
       "      <td>0.038181</td>\n",
       "      <td>0.045540</td>\n",
       "      <td>0.059380</td>\n",
       "      <td>0.031169</td>\n",
       "      <td>0.239705</td>\n",
       "      <td>...</td>\n",
       "      <td>0.064871</td>\n",
       "      <td>0.045706</td>\n",
       "      <td>0.053323</td>\n",
       "      <td>0.038647</td>\n",
       "      <td>0.026342</td>\n",
       "      <td>0.143943</td>\n",
       "      <td>0.018861</td>\n",
       "      <td>0.010743</td>\n",
       "      <td>0.015217</td>\n",
       "      <td>0.047318</td>\n",
       "    </tr>\n",
       "    <tr>\n",
       "      <th>sMAPE</th>\n",
       "      <td>0.046294</td>\n",
       "      <td>0.120762</td>\n",
       "      <td>0.035150</td>\n",
       "      <td>0.017151</td>\n",
       "      <td>0.045496</td>\n",
       "      <td>0.035901</td>\n",
       "      <td>0.040815</td>\n",
       "      <td>0.058920</td>\n",
       "      <td>0.033196</td>\n",
       "      <td>0.198972</td>\n",
       "      <td>...</td>\n",
       "      <td>0.076085</td>\n",
       "      <td>0.044293</td>\n",
       "      <td>0.050688</td>\n",
       "      <td>0.039327</td>\n",
       "      <td>0.025176</td>\n",
       "      <td>0.137185</td>\n",
       "      <td>0.018078</td>\n",
       "      <td>0.011096</td>\n",
       "      <td>0.014698</td>\n",
       "      <td>0.047155</td>\n",
       "    </tr>\n",
       "    <tr>\n",
       "      <th>R2</th>\n",
       "      <td>-1.954934</td>\n",
       "      <td>-0.387225</td>\n",
       "      <td>-0.869741</td>\n",
       "      <td>-0.724460</td>\n",
       "      <td>-0.388472</td>\n",
       "      <td>-0.839028</td>\n",
       "      <td>-0.131206</td>\n",
       "      <td>-0.223059</td>\n",
       "      <td>0.014582</td>\n",
       "      <td>-1.350153</td>\n",
       "      <td>...</td>\n",
       "      <td>-0.034392</td>\n",
       "      <td>-1.965576</td>\n",
       "      <td>-0.358957</td>\n",
       "      <td>-0.031610</td>\n",
       "      <td>-0.904518</td>\n",
       "      <td>-0.129570</td>\n",
       "      <td>-0.524218</td>\n",
       "      <td>-0.510814</td>\n",
       "      <td>-0.108974</td>\n",
       "      <td>-0.945380</td>\n",
       "    </tr>\n",
       "  </tbody>\n",
       "</table>\n",
       "<p>5 rows × 51 columns</p>\n",
       "</div>"
      ],
      "text/plain": [
       "        Albania   Andorra   Austria  Azerbaijan   Belarus   Belgium  \\\n",
       "RMSE   0.049083  0.249566  0.044838    0.021816  0.048869  0.049068   \n",
       "MAE    0.043588  0.155318  0.035811    0.019662  0.044908  0.036423   \n",
       "MAPE   0.045806  0.111950  0.036347    0.019911  0.043865  0.038181   \n",
       "sMAPE  0.046294  0.120762  0.035150    0.017151  0.045496  0.035901   \n",
       "R2    -1.954934 -0.387225 -0.869741   -0.724460 -0.388472 -0.839028   \n",
       "\n",
       "       Bosnia and Herzegovina  Bulgaria   Croatia    Cyprus  ...  Scotland  \\\n",
       "RMSE                 0.064430  0.073107  0.036705  0.217614  ...  0.081049   \n",
       "MAE                  0.047072  0.057114  0.031505  0.176378  ...  0.070424   \n",
       "MAPE                 0.045540  0.059380  0.031169  0.239705  ...  0.064871   \n",
       "sMAPE                0.040815  0.058920  0.033196  0.198972  ...  0.076085   \n",
       "R2                  -0.131206 -0.223059  0.014582 -1.350153  ... -0.034392   \n",
       "\n",
       "         Serbia  Slovak Republic  Slovenia     Spain    Sweden  Switzerland  \\\n",
       "RMSE   0.054939         0.060267  0.046877  0.037902  0.173071     0.022472   \n",
       "MAE    0.042553         0.052862  0.038750  0.027947  0.140226     0.019226   \n",
       "MAPE   0.045706         0.053323  0.038647  0.026342  0.143943     0.018861   \n",
       "sMAPE  0.044293         0.050688  0.039327  0.025176  0.137185     0.018078   \n",
       "R2    -1.965576        -0.358957 -0.031610 -0.904518 -0.129570    -0.524218   \n",
       "\n",
       "         Turkey   Ukraine     Wales  \n",
       "RMSE   0.013485  0.018840  0.061415  \n",
       "MAE    0.010883  0.015274  0.052383  \n",
       "MAPE   0.010743  0.015217  0.047318  \n",
       "sMAPE  0.011096  0.014698  0.047155  \n",
       "R2    -0.510814 -0.108974 -0.945380  \n",
       "\n",
       "[5 rows x 51 columns]"
      ]
     },
     "execution_count": 11,
     "metadata": {},
     "output_type": "execute_result"
    }
   ],
   "source": [
    "lasso_1step_df"
   ]
  },
  {
   "cell_type": "markdown",
   "id": "2d03f239",
   "metadata": {},
   "source": [
    "# 4. Ridge "
   ]
  },
  {
   "cell_type": "code",
   "execution_count": 12,
   "id": "4803a51e",
   "metadata": {},
   "outputs": [],
   "source": [
    "ridge_trained_1step = train_ridge(X_all_train, \n",
    "                                  y_all_train, \n",
    "                                  scoring='neg_root_mean_squared_error', \n",
    "                                  n_cv=5)"
   ]
  },
  {
   "cell_type": "markdown",
   "id": "7805cc5d",
   "metadata": {},
   "source": [
    "### 4.1. Overall Performance"
   ]
  },
  {
   "cell_type": "code",
   "execution_count": 13,
   "id": "bcb696d7",
   "metadata": {},
   "outputs": [
    {
     "data": {
      "text/plain": [
       "RMSE     1.362174e-01\n",
       "MAE      7.000318e-02\n",
       "MAPE     2.354443e+13\n",
       "sMAPE    7.379070e-02\n",
       "R2       3.940929e-02\n",
       "Name: all, dtype: float64"
      ]
     },
     "execution_count": 13,
     "metadata": {},
     "output_type": "execute_result"
    }
   ],
   "source": [
    "ridge_pred_1step = ridge_trained_1step.predict(X_all_test)\n",
    "\n",
    "pd.Series(evaluate(y_true=y_all_test, \n",
    "          y_pred=ridge_pred_1step), \n",
    "          name='all')"
   ]
  },
  {
   "cell_type": "markdown",
   "id": "f8ac2970",
   "metadata": {},
   "source": [
    "### 4.2. By Country"
   ]
  },
  {
   "cell_type": "code",
   "execution_count": 14,
   "id": "c63774ac",
   "metadata": {},
   "outputs": [],
   "source": [
    "ridge_1step_df = pd.DataFrame()\n",
    "\n",
    "for country in country_list:\n",
    "    temp = pd.Series(evaluate(y_true=y_all_test_dict[country], \n",
    "                              y_pred=ridge_trained_1step.predict(X_all_test_dict[country])), \n",
    "                     name=country)\n",
    "    ridge_1step_df = pd.concat([ridge_1step_df, temp], axis='columns')"
   ]
  },
  {
   "cell_type": "code",
   "execution_count": 15,
   "id": "03cd3343",
   "metadata": {},
   "outputs": [
    {
     "data": {
      "text/html": [
       "<div>\n",
       "<style scoped>\n",
       "    .dataframe tbody tr th:only-of-type {\n",
       "        vertical-align: middle;\n",
       "    }\n",
       "\n",
       "    .dataframe tbody tr th {\n",
       "        vertical-align: top;\n",
       "    }\n",
       "\n",
       "    .dataframe thead th {\n",
       "        text-align: right;\n",
       "    }\n",
       "</style>\n",
       "<table border=\"1\" class=\"dataframe\">\n",
       "  <thead>\n",
       "    <tr style=\"text-align: right;\">\n",
       "      <th></th>\n",
       "      <th>Albania</th>\n",
       "      <th>Andorra</th>\n",
       "      <th>Austria</th>\n",
       "      <th>Azerbaijan</th>\n",
       "      <th>Belarus</th>\n",
       "      <th>Belgium</th>\n",
       "      <th>Bosnia and Herzegovina</th>\n",
       "      <th>Bulgaria</th>\n",
       "      <th>Croatia</th>\n",
       "      <th>Cyprus</th>\n",
       "      <th>...</th>\n",
       "      <th>Scotland</th>\n",
       "      <th>Serbia</th>\n",
       "      <th>Slovak Republic</th>\n",
       "      <th>Slovenia</th>\n",
       "      <th>Spain</th>\n",
       "      <th>Sweden</th>\n",
       "      <th>Switzerland</th>\n",
       "      <th>Turkey</th>\n",
       "      <th>Ukraine</th>\n",
       "      <th>Wales</th>\n",
       "    </tr>\n",
       "  </thead>\n",
       "  <tbody>\n",
       "    <tr>\n",
       "      <th>RMSE</th>\n",
       "      <td>0.048900</td>\n",
       "      <td>0.253145</td>\n",
       "      <td>0.045854</td>\n",
       "      <td>0.025109</td>\n",
       "      <td>0.050892</td>\n",
       "      <td>0.054239</td>\n",
       "      <td>0.067476</td>\n",
       "      <td>0.069194</td>\n",
       "      <td>0.038727</td>\n",
       "      <td>0.219665</td>\n",
       "      <td>...</td>\n",
       "      <td>0.076358</td>\n",
       "      <td>0.050783</td>\n",
       "      <td>0.060774</td>\n",
       "      <td>0.047299</td>\n",
       "      <td>0.037500</td>\n",
       "      <td>0.174233</td>\n",
       "      <td>0.023193</td>\n",
       "      <td>0.010062</td>\n",
       "      <td>0.019205</td>\n",
       "      <td>0.061985</td>\n",
       "    </tr>\n",
       "    <tr>\n",
       "      <th>MAE</th>\n",
       "      <td>0.043139</td>\n",
       "      <td>0.163501</td>\n",
       "      <td>0.036626</td>\n",
       "      <td>0.021047</td>\n",
       "      <td>0.047435</td>\n",
       "      <td>0.043077</td>\n",
       "      <td>0.051864</td>\n",
       "      <td>0.054047</td>\n",
       "      <td>0.033393</td>\n",
       "      <td>0.176307</td>\n",
       "      <td>...</td>\n",
       "      <td>0.065112</td>\n",
       "      <td>0.037734</td>\n",
       "      <td>0.053440</td>\n",
       "      <td>0.039037</td>\n",
       "      <td>0.028885</td>\n",
       "      <td>0.140797</td>\n",
       "      <td>0.019519</td>\n",
       "      <td>0.008820</td>\n",
       "      <td>0.015246</td>\n",
       "      <td>0.053793</td>\n",
       "    </tr>\n",
       "    <tr>\n",
       "      <th>MAPE</th>\n",
       "      <td>0.045354</td>\n",
       "      <td>0.119560</td>\n",
       "      <td>0.037189</td>\n",
       "      <td>0.021371</td>\n",
       "      <td>0.046386</td>\n",
       "      <td>0.044830</td>\n",
       "      <td>0.050380</td>\n",
       "      <td>0.056156</td>\n",
       "      <td>0.033162</td>\n",
       "      <td>0.240293</td>\n",
       "      <td>...</td>\n",
       "      <td>0.060256</td>\n",
       "      <td>0.040644</td>\n",
       "      <td>0.054011</td>\n",
       "      <td>0.038991</td>\n",
       "      <td>0.027359</td>\n",
       "      <td>0.144663</td>\n",
       "      <td>0.019166</td>\n",
       "      <td>0.008681</td>\n",
       "      <td>0.015209</td>\n",
       "      <td>0.048683</td>\n",
       "    </tr>\n",
       "    <tr>\n",
       "      <th>sMAPE</th>\n",
       "      <td>0.044055</td>\n",
       "      <td>0.134986</td>\n",
       "      <td>0.036166</td>\n",
       "      <td>0.021065</td>\n",
       "      <td>0.045429</td>\n",
       "      <td>0.043511</td>\n",
       "      <td>0.051258</td>\n",
       "      <td>0.054202</td>\n",
       "      <td>0.032648</td>\n",
       "      <td>0.198877</td>\n",
       "      <td>...</td>\n",
       "      <td>0.061702</td>\n",
       "      <td>0.039167</td>\n",
       "      <td>0.052767</td>\n",
       "      <td>0.038542</td>\n",
       "      <td>0.027875</td>\n",
       "      <td>0.142047</td>\n",
       "      <td>0.018945</td>\n",
       "      <td>0.008650</td>\n",
       "      <td>0.015091</td>\n",
       "      <td>0.050177</td>\n",
       "    </tr>\n",
       "    <tr>\n",
       "      <th>R2</th>\n",
       "      <td>-1.932969</td>\n",
       "      <td>-0.427298</td>\n",
       "      <td>-0.955431</td>\n",
       "      <td>-1.284477</td>\n",
       "      <td>-0.505822</td>\n",
       "      <td>-1.247109</td>\n",
       "      <td>-0.240697</td>\n",
       "      <td>-0.095649</td>\n",
       "      <td>-0.097002</td>\n",
       "      <td>-1.394670</td>\n",
       "      <td>...</td>\n",
       "      <td>0.081892</td>\n",
       "      <td>-1.533954</td>\n",
       "      <td>-0.381914</td>\n",
       "      <td>-0.050269</td>\n",
       "      <td>-0.864341</td>\n",
       "      <td>-0.144786</td>\n",
       "      <td>-0.623647</td>\n",
       "      <td>0.158795</td>\n",
       "      <td>-0.152346</td>\n",
       "      <td>-0.981618</td>\n",
       "    </tr>\n",
       "  </tbody>\n",
       "</table>\n",
       "<p>5 rows × 51 columns</p>\n",
       "</div>"
      ],
      "text/plain": [
       "        Albania   Andorra   Austria  Azerbaijan   Belarus   Belgium  \\\n",
       "RMSE   0.048900  0.253145  0.045854    0.025109  0.050892  0.054239   \n",
       "MAE    0.043139  0.163501  0.036626    0.021047  0.047435  0.043077   \n",
       "MAPE   0.045354  0.119560  0.037189    0.021371  0.046386  0.044830   \n",
       "sMAPE  0.044055  0.134986  0.036166    0.021065  0.045429  0.043511   \n",
       "R2    -1.932969 -0.427298 -0.955431   -1.284477 -0.505822 -1.247109   \n",
       "\n",
       "       Bosnia and Herzegovina  Bulgaria   Croatia    Cyprus  ...  Scotland  \\\n",
       "RMSE                 0.067476  0.069194  0.038727  0.219665  ...  0.076358   \n",
       "MAE                  0.051864  0.054047  0.033393  0.176307  ...  0.065112   \n",
       "MAPE                 0.050380  0.056156  0.033162  0.240293  ...  0.060256   \n",
       "sMAPE                0.051258  0.054202  0.032648  0.198877  ...  0.061702   \n",
       "R2                  -0.240697 -0.095649 -0.097002 -1.394670  ...  0.081892   \n",
       "\n",
       "         Serbia  Slovak Republic  Slovenia     Spain    Sweden  Switzerland  \\\n",
       "RMSE   0.050783         0.060774  0.047299  0.037500  0.174233     0.023193   \n",
       "MAE    0.037734         0.053440  0.039037  0.028885  0.140797     0.019519   \n",
       "MAPE   0.040644         0.054011  0.038991  0.027359  0.144663     0.019166   \n",
       "sMAPE  0.039167         0.052767  0.038542  0.027875  0.142047     0.018945   \n",
       "R2    -1.533954        -0.381914 -0.050269 -0.864341 -0.144786    -0.623647   \n",
       "\n",
       "         Turkey   Ukraine     Wales  \n",
       "RMSE   0.010062  0.019205  0.061985  \n",
       "MAE    0.008820  0.015246  0.053793  \n",
       "MAPE   0.008681  0.015209  0.048683  \n",
       "sMAPE  0.008650  0.015091  0.050177  \n",
       "R2     0.158795 -0.152346 -0.981618  \n",
       "\n",
       "[5 rows x 51 columns]"
      ]
     },
     "execution_count": 15,
     "metadata": {},
     "output_type": "execute_result"
    }
   ],
   "source": [
    "ridge_1step_df"
   ]
  },
  {
   "cell_type": "markdown",
   "id": "72a6f035",
   "metadata": {},
   "source": [
    "# 5. ANN"
   ]
  },
  {
   "cell_type": "markdown",
   "id": "15bc0622",
   "metadata": {},
   "source": [
    "### 5.1. Tuning Model"
   ]
  },
  {
   "cell_type": "code",
   "execution_count": 5,
   "id": "ae0180df",
   "metadata": {},
   "outputs": [],
   "source": [
    "def model_builder(hp):\n",
    "    \n",
    "    # Initialize sequential API and start building model.\n",
    "    model = keras.models.Sequential()\n",
    "    model.add(keras.layers.Input(shape=(210)))\n",
    "    \n",
    "    # Tune the number of hidden layers and units in each.\n",
    "    # Number of hidden layers: 1 - 5\n",
    "    # Number of Units: 32 - 512 with stepsize of 32\n",
    "    for i in range(1, hp.Int(\"num_layers\", 1, 4)):\n",
    "        model.add(\n",
    "            keras.layers.Dense(\n",
    "                units=hp.Int(\"units_\" + str(i), min_value=20, max_value=200, step=20),\n",
    "                activation=\"relu\")\n",
    "            )\n",
    "        \n",
    "        # Tune dropout layer with values from 0 - 0.3 with stepsize of 0.1.\n",
    "        model.add(keras.layers.Dropout(hp.Float(\"dropout_\" + str(i), 0, 0.3, step=0.1)))\n",
    "    \n",
    "    # Add output layer.\n",
    "    model.add(keras.layers.Dense(1))\n",
    "    \n",
    "    # Tune learning rate for Adam optimizer with values from 0.01, 0.001, or 0.0001\n",
    "    hp_learning_rate = hp.Choice(\"learning_rate\", values=[1e-2, 1e-3, 1e-4])\n",
    "    \n",
    "    # Define optimizer, loss, and metrics\n",
    "    model.compile(optimizer=keras.optimizers.adam_v2.Adam(learning_rate=hp_learning_rate),\n",
    "                  loss='mse',\n",
    "                  metrics=[\"mae\", \"mse\"])\n",
    "    \n",
    "    return model"
   ]
  },
  {
   "cell_type": "code",
   "execution_count": 9,
   "id": "55b92e2c",
   "metadata": {},
   "outputs": [
    {
     "name": "stdout",
     "output_type": "stream",
     "text": [
      "INFO:tensorflow:Reloading Oracle from existing project MLP_hyperparameter\\Covid19\\oracle.json\n",
      "INFO:tensorflow:Reloading Tuner from MLP_hyperparameter\\Covid19\\tuner0.json\n"
     ]
    }
   ],
   "source": [
    "tuner = kt.Hyperband(hypermodel=model_builder,\n",
    "                     objective = kt.Objective('val_mse', direction=\"min\"),\n",
    "                     max_epochs=100,\n",
    "                     factor=3,\n",
    "                     directory='MLP_hyperparameter',\n",
    "                     project_name='Covid19')\n",
    "\n",
    "stop_early = keras.callbacks.EarlyStopping(monitor='val_mse', patience=5)"
   ]
  },
  {
   "cell_type": "code",
   "execution_count": 63,
   "id": "dabd8aca",
   "metadata": {},
   "outputs": [
    {
     "name": "stdout",
     "output_type": "stream",
     "text": [
      "Trial 238 Complete [00h 00m 12s]\n",
      "val_mse: 0.01901964843273163\n",
      "\n",
      "Best val_mse So Far: 0.01832188107073307\n",
      "Total elapsed time: 00h 28m 49s\n",
      "\n",
      "Search: Running Trial #239\n",
      "\n",
      "Hyperparameter    |Value             |Best Value So Far \n",
      "num_layers        |2                 |3                 \n",
      "learning_rate     |0.0001            |0.001             \n",
      "units_1           |100               |80                \n",
      "dropout_1         |0.2               |0                 \n",
      "units_2           |60                |60                \n",
      "dropout_2         |0.2               |0                 \n",
      "units_3           |40                |180               \n",
      "dropout_3         |0.2               |0.2               \n",
      "tuner/epochs      |34                |34                \n",
      "tuner/initial_e...|0                 |12                \n",
      "tuner/bracket     |1                 |2                 \n",
      "tuner/round       |0                 |1                 \n",
      "\n",
      "Epoch 1/34\n",
      "346/346 - 2s - loss: 0.3632 - mae: 0.4391 - mse: 0.3632 - val_loss: 0.0431 - val_mae: 0.1557 - val_mse: 0.0431\n",
      "Epoch 2/34\n",
      "346/346 - 1s - loss: 0.1181 - mae: 0.2400 - mse: 0.1181 - val_loss: 0.0337 - val_mae: 0.1285 - val_mse: 0.0337\n",
      "Epoch 3/34\n",
      "346/346 - 1s - loss: 0.0922 - mae: 0.2038 - mse: 0.0922 - val_loss: 0.0308 - val_mae: 0.1249 - val_mse: 0.0308\n",
      "Epoch 4/34\n",
      "346/346 - 1s - loss: 0.0793 - mae: 0.1871 - mse: 0.0793 - val_loss: 0.0281 - val_mae: 0.1079 - val_mse: 0.0281\n",
      "Epoch 5/34\n",
      "346/346 - 1s - loss: 0.0740 - mae: 0.1774 - mse: 0.0740 - val_loss: 0.0275 - val_mae: 0.1091 - val_mse: 0.0275\n",
      "Epoch 6/34\n",
      "346/346 - 1s - loss: 0.0691 - mae: 0.1698 - mse: 0.0691 - val_loss: 0.0259 - val_mae: 0.1012 - val_mse: 0.0259\n",
      "Epoch 7/34\n",
      "346/346 - 1s - loss: 0.0661 - mae: 0.1637 - mse: 0.0661 - val_loss: 0.0263 - val_mae: 0.1017 - val_mse: 0.0263\n",
      "Epoch 8/34\n",
      "346/346 - 1s - loss: 0.0625 - mae: 0.1583 - mse: 0.0625 - val_loss: 0.0242 - val_mae: 0.0949 - val_mse: 0.0242\n",
      "Epoch 9/34\n",
      "346/346 - 1s - loss: 0.0627 - mae: 0.1564 - mse: 0.0627 - val_loss: 0.0233 - val_mae: 0.0913 - val_mse: 0.0233\n",
      "Epoch 10/34\n",
      "346/346 - 1s - loss: 0.0605 - mae: 0.1525 - mse: 0.0605 - val_loss: 0.0226 - val_mae: 0.0862 - val_mse: 0.0226\n",
      "Epoch 11/34\n",
      "346/346 - 1s - loss: 0.0573 - mae: 0.1491 - mse: 0.0573 - val_loss: 0.0231 - val_mae: 0.0889 - val_mse: 0.0231\n",
      "Epoch 12/34\n",
      "346/346 - 1s - loss: 0.0569 - mae: 0.1463 - mse: 0.0569 - val_loss: 0.0233 - val_mae: 0.0888 - val_mse: 0.0233\n",
      "Epoch 13/34\n",
      "346/346 - 1s - loss: 0.0555 - mae: 0.1444 - mse: 0.0555 - val_loss: 0.0213 - val_mae: 0.0806 - val_mse: 0.0213\n",
      "Epoch 14/34\n",
      "346/346 - 1s - loss: 0.0544 - mae: 0.1414 - mse: 0.0544 - val_loss: 0.0244 - val_mae: 0.0905 - val_mse: 0.0244\n",
      "Epoch 15/34\n",
      "346/346 - 1s - loss: 0.0527 - mae: 0.1394 - mse: 0.0527 - val_loss: 0.0221 - val_mae: 0.0800 - val_mse: 0.0221\n",
      "Epoch 16/34\n",
      "346/346 - 1s - loss: 0.0515 - mae: 0.1368 - mse: 0.0515 - val_loss: 0.0214 - val_mae: 0.0798 - val_mse: 0.0214\n",
      "Epoch 17/34\n",
      "346/346 - 1s - loss: 0.0515 - mae: 0.1350 - mse: 0.0515 - val_loss: 0.0228 - val_mae: 0.0874 - val_mse: 0.0228\n",
      "Epoch 18/34\n",
      "346/346 - 1s - loss: 0.0503 - mae: 0.1331 - mse: 0.0503 - val_loss: 0.0202 - val_mae: 0.0738 - val_mse: 0.0202\n",
      "Epoch 19/34\n",
      "346/346 - 1s - loss: 0.0499 - mae: 0.1317 - mse: 0.0499 - val_loss: 0.0205 - val_mae: 0.0770 - val_mse: 0.0205\n",
      "Epoch 20/34\n",
      "346/346 - 1s - loss: 0.0494 - mae: 0.1312 - mse: 0.0494 - val_loss: 0.0207 - val_mae: 0.0771 - val_mse: 0.0207\n",
      "Epoch 21/34\n",
      "346/346 - 1s - loss: 0.0483 - mae: 0.1289 - mse: 0.0483 - val_loss: 0.0198 - val_mae: 0.0719 - val_mse: 0.0198\n",
      "Epoch 22/34\n",
      "346/346 - 1s - loss: 0.0481 - mae: 0.1276 - mse: 0.0481 - val_loss: 0.0212 - val_mae: 0.0842 - val_mse: 0.0212\n",
      "Epoch 23/34\n",
      "346/346 - 1s - loss: 0.0475 - mae: 0.1261 - mse: 0.0475 - val_loss: 0.0199 - val_mae: 0.0744 - val_mse: 0.0199\n",
      "Epoch 24/34\n",
      "346/346 - 1s - loss: 0.0474 - mae: 0.1270 - mse: 0.0474 - val_loss: 0.0204 - val_mae: 0.0803 - val_mse: 0.0204\n",
      "Epoch 25/34\n",
      "346/346 - 1s - loss: 0.0464 - mae: 0.1244 - mse: 0.0464 - val_loss: 0.0213 - val_mae: 0.0814 - val_mse: 0.0213\n",
      "Epoch 26/34\n",
      "346/346 - 1s - loss: 0.0459 - mae: 0.1236 - mse: 0.0459 - val_loss: 0.0189 - val_mae: 0.0703 - val_mse: 0.0189\n"
     ]
    },
    {
     "ename": "UnknownError",
     "evalue": "Failed to rename: MLP_hyperparameter\\Covid19\\trial_face235c583c8a23bbb56ca43018870f\\checkpoints\\epoch_0\\checkpoint_temp/part-00000-of-00001.data-00000-of-00001 to: MLP_hyperparameter\\Covid19\\trial_face235c583c8a23bbb56ca43018870f\\checkpoints\\epoch_0\\checkpoint.data-00000-of-00001 : Access is denied.\r\n; Input/output error [Op:MergeV2Checkpoints]",
     "output_type": "error",
     "traceback": [
      "\u001b[1;31m---------------------------------------------------------------------------\u001b[0m",
      "\u001b[1;31mUnknownError\u001b[0m                              Traceback (most recent call last)",
      "Input \u001b[1;32mIn [63]\u001b[0m, in \u001b[0;36m<cell line: 1>\u001b[1;34m()\u001b[0m\n\u001b[1;32m----> 1\u001b[0m \u001b[43mtuner\u001b[49m\u001b[38;5;241;43m.\u001b[39;49m\u001b[43msearch\u001b[49m\u001b[43m(\u001b[49m\u001b[43mX_all_train\u001b[49m\u001b[43m,\u001b[49m\u001b[43m \u001b[49m\n\u001b[0;32m      2\u001b[0m \u001b[43m             \u001b[49m\u001b[43my_all_train\u001b[49m\u001b[43m,\u001b[49m\u001b[43m \u001b[49m\n\u001b[0;32m      3\u001b[0m \u001b[43m             \u001b[49m\u001b[43mepochs\u001b[49m\u001b[38;5;241;43m=\u001b[39;49m\u001b[38;5;241;43m100\u001b[39;49m\u001b[43m,\u001b[49m\u001b[43m \u001b[49m\n\u001b[0;32m      4\u001b[0m \u001b[43m             \u001b[49m\u001b[43mvalidation_data\u001b[49m\u001b[38;5;241;43m=\u001b[39;49m\u001b[43m(\u001b[49m\u001b[43mX_all_test\u001b[49m\u001b[43m,\u001b[49m\u001b[43m \u001b[49m\u001b[43my_all_test\u001b[49m\u001b[43m)\u001b[49m\u001b[43m,\u001b[49m\u001b[43m \u001b[49m\n\u001b[0;32m      5\u001b[0m \u001b[43m             \u001b[49m\u001b[43mcallbacks\u001b[49m\u001b[38;5;241;43m=\u001b[39;49m\u001b[43m[\u001b[49m\u001b[43mstop_early\u001b[49m\u001b[43m]\u001b[49m\u001b[43m,\u001b[49m\u001b[43m \u001b[49m\u001b[43mverbose\u001b[49m\u001b[38;5;241;43m=\u001b[39;49m\u001b[38;5;241;43m2\u001b[39;49m\u001b[43m)\u001b[49m\n",
      "File \u001b[1;32m~\\anaconda3\\envs\\tf\\lib\\site-packages\\keras_tuner\\engine\\base_tuner.py:179\u001b[0m, in \u001b[0;36mBaseTuner.search\u001b[1;34m(self, *fit_args, **fit_kwargs)\u001b[0m\n\u001b[0;32m    176\u001b[0m     \u001b[38;5;28;01mcontinue\u001b[39;00m\n\u001b[0;32m    178\u001b[0m \u001b[38;5;28mself\u001b[39m\u001b[38;5;241m.\u001b[39mon_trial_begin(trial)\n\u001b[1;32m--> 179\u001b[0m results \u001b[38;5;241m=\u001b[39m \u001b[38;5;28mself\u001b[39m\u001b[38;5;241m.\u001b[39mrun_trial(trial, \u001b[38;5;241m*\u001b[39mfit_args, \u001b[38;5;241m*\u001b[39m\u001b[38;5;241m*\u001b[39mfit_kwargs)\n\u001b[0;32m    180\u001b[0m \u001b[38;5;66;03m# `results` is None indicates user updated oracle in `run_trial()`.\u001b[39;00m\n\u001b[0;32m    181\u001b[0m \u001b[38;5;28;01mif\u001b[39;00m results \u001b[38;5;129;01mis\u001b[39;00m \u001b[38;5;28;01mNone\u001b[39;00m:\n",
      "File \u001b[1;32m~\\anaconda3\\envs\\tf\\lib\\site-packages\\keras_tuner\\tuners\\hyperband.py:376\u001b[0m, in \u001b[0;36mHyperband.run_trial\u001b[1;34m(self, trial, *fit_args, **fit_kwargs)\u001b[0m\n\u001b[0;32m    374\u001b[0m     fit_kwargs[\u001b[38;5;124m\"\u001b[39m\u001b[38;5;124mepochs\u001b[39m\u001b[38;5;124m\"\u001b[39m] \u001b[38;5;241m=\u001b[39m hp\u001b[38;5;241m.\u001b[39mvalues[\u001b[38;5;124m\"\u001b[39m\u001b[38;5;124mtuner/epochs\u001b[39m\u001b[38;5;124m\"\u001b[39m]\n\u001b[0;32m    375\u001b[0m     fit_kwargs[\u001b[38;5;124m\"\u001b[39m\u001b[38;5;124minitial_epoch\u001b[39m\u001b[38;5;124m\"\u001b[39m] \u001b[38;5;241m=\u001b[39m hp\u001b[38;5;241m.\u001b[39mvalues[\u001b[38;5;124m\"\u001b[39m\u001b[38;5;124mtuner/initial_epoch\u001b[39m\u001b[38;5;124m\"\u001b[39m]\n\u001b[1;32m--> 376\u001b[0m \u001b[38;5;28;01mreturn\u001b[39;00m \u001b[38;5;28msuper\u001b[39m(Hyperband, \u001b[38;5;28mself\u001b[39m)\u001b[38;5;241m.\u001b[39mrun_trial(trial, \u001b[38;5;241m*\u001b[39mfit_args, \u001b[38;5;241m*\u001b[39m\u001b[38;5;241m*\u001b[39mfit_kwargs)\n",
      "File \u001b[1;32m~\\anaconda3\\envs\\tf\\lib\\site-packages\\keras_tuner\\engine\\tuner.py:304\u001b[0m, in \u001b[0;36mTuner.run_trial\u001b[1;34m(self, trial, *args, **kwargs)\u001b[0m\n\u001b[0;32m    302\u001b[0m callbacks\u001b[38;5;241m.\u001b[39mappend(model_checkpoint)\n\u001b[0;32m    303\u001b[0m copied_kwargs[\u001b[38;5;124m\"\u001b[39m\u001b[38;5;124mcallbacks\u001b[39m\u001b[38;5;124m\"\u001b[39m] \u001b[38;5;241m=\u001b[39m callbacks\n\u001b[1;32m--> 304\u001b[0m obj_value \u001b[38;5;241m=\u001b[39m \u001b[38;5;28mself\u001b[39m\u001b[38;5;241m.\u001b[39m_build_and_fit_model(trial, \u001b[38;5;241m*\u001b[39margs, \u001b[38;5;241m*\u001b[39m\u001b[38;5;241m*\u001b[39mcopied_kwargs)\n\u001b[0;32m    306\u001b[0m \u001b[38;5;66;03m# objective left unspecified,\u001b[39;00m\n\u001b[0;32m    307\u001b[0m \u001b[38;5;66;03m# and objective value is not a single float.\u001b[39;00m\n\u001b[0;32m    308\u001b[0m \u001b[38;5;28;01mif\u001b[39;00m (\n\u001b[0;32m    309\u001b[0m     \u001b[38;5;129;01mnot\u001b[39;00m \u001b[38;5;28misinstance\u001b[39m(obj_value, (\u001b[38;5;28mint\u001b[39m, \u001b[38;5;28mfloat\u001b[39m))\n\u001b[0;32m    310\u001b[0m     \u001b[38;5;129;01mand\u001b[39;00m \u001b[38;5;28mself\u001b[39m\u001b[38;5;241m.\u001b[39moracle\u001b[38;5;241m.\u001b[39mobjective\u001b[38;5;241m.\u001b[39mname \u001b[38;5;241m==\u001b[39m \u001b[38;5;124m\"\u001b[39m\u001b[38;5;124mdefault_objective\u001b[39m\u001b[38;5;124m\"\u001b[39m\n\u001b[0;32m    311\u001b[0m ):\n",
      "File \u001b[1;32m~\\anaconda3\\envs\\tf\\lib\\site-packages\\keras_tuner\\engine\\tuner.py:234\u001b[0m, in \u001b[0;36mTuner._build_and_fit_model\u001b[1;34m(self, trial, *args, **kwargs)\u001b[0m\n\u001b[0;32m    232\u001b[0m hp \u001b[38;5;241m=\u001b[39m trial\u001b[38;5;241m.\u001b[39mhyperparameters\n\u001b[0;32m    233\u001b[0m model \u001b[38;5;241m=\u001b[39m \u001b[38;5;28mself\u001b[39m\u001b[38;5;241m.\u001b[39m_try_build(hp)\n\u001b[1;32m--> 234\u001b[0m \u001b[38;5;28;01mreturn\u001b[39;00m \u001b[38;5;28mself\u001b[39m\u001b[38;5;241m.\u001b[39mhypermodel\u001b[38;5;241m.\u001b[39mfit(hp, model, \u001b[38;5;241m*\u001b[39margs, \u001b[38;5;241m*\u001b[39m\u001b[38;5;241m*\u001b[39mkwargs)\n",
      "File \u001b[1;32m~\\anaconda3\\envs\\tf\\lib\\site-packages\\keras_tuner\\engine\\hypermodel.py:137\u001b[0m, in \u001b[0;36mHyperModel.fit\u001b[1;34m(self, hp, model, *args, **kwargs)\u001b[0m\n\u001b[0;32m    113\u001b[0m \u001b[38;5;28;01mdef\u001b[39;00m \u001b[38;5;21mfit\u001b[39m(\u001b[38;5;28mself\u001b[39m, hp, model, \u001b[38;5;241m*\u001b[39margs, \u001b[38;5;241m*\u001b[39m\u001b[38;5;241m*\u001b[39mkwargs):\n\u001b[0;32m    114\u001b[0m     \u001b[38;5;124;03m\"\"\"Train the model.\u001b[39;00m\n\u001b[0;32m    115\u001b[0m \n\u001b[0;32m    116\u001b[0m \u001b[38;5;124;03m    Args:\u001b[39;00m\n\u001b[1;32m   (...)\u001b[0m\n\u001b[0;32m    135\u001b[0m \u001b[38;5;124;03m        If return a float, it should be the `objective` value.\u001b[39;00m\n\u001b[0;32m    136\u001b[0m \u001b[38;5;124;03m    \"\"\"\u001b[39;00m\n\u001b[1;32m--> 137\u001b[0m     \u001b[38;5;28;01mreturn\u001b[39;00m model\u001b[38;5;241m.\u001b[39mfit(\u001b[38;5;241m*\u001b[39margs, \u001b[38;5;241m*\u001b[39m\u001b[38;5;241m*\u001b[39mkwargs)\n",
      "File \u001b[1;32m~\\anaconda3\\envs\\tf\\lib\\site-packages\\keras\\engine\\training.py:1230\u001b[0m, in \u001b[0;36mModel.fit\u001b[1;34m(self, x, y, batch_size, epochs, verbose, callbacks, validation_split, validation_data, shuffle, class_weight, sample_weight, initial_epoch, steps_per_epoch, validation_steps, validation_batch_size, validation_freq, max_queue_size, workers, use_multiprocessing)\u001b[0m\n\u001b[0;32m   1227\u001b[0m   val_logs \u001b[38;5;241m=\u001b[39m {\u001b[38;5;124m'\u001b[39m\u001b[38;5;124mval_\u001b[39m\u001b[38;5;124m'\u001b[39m \u001b[38;5;241m+\u001b[39m name: val \u001b[38;5;28;01mfor\u001b[39;00m name, val \u001b[38;5;129;01min\u001b[39;00m val_logs\u001b[38;5;241m.\u001b[39mitems()}\n\u001b[0;32m   1228\u001b[0m   epoch_logs\u001b[38;5;241m.\u001b[39mupdate(val_logs)\n\u001b[1;32m-> 1230\u001b[0m \u001b[43mcallbacks\u001b[49m\u001b[38;5;241;43m.\u001b[39;49m\u001b[43mon_epoch_end\u001b[49m\u001b[43m(\u001b[49m\u001b[43mepoch\u001b[49m\u001b[43m,\u001b[49m\u001b[43m \u001b[49m\u001b[43mepoch_logs\u001b[49m\u001b[43m)\u001b[49m\n\u001b[0;32m   1231\u001b[0m training_logs \u001b[38;5;241m=\u001b[39m epoch_logs\n\u001b[0;32m   1232\u001b[0m \u001b[38;5;28;01mif\u001b[39;00m \u001b[38;5;28mself\u001b[39m\u001b[38;5;241m.\u001b[39mstop_training:\n",
      "File \u001b[1;32m~\\anaconda3\\envs\\tf\\lib\\site-packages\\keras\\callbacks.py:413\u001b[0m, in \u001b[0;36mCallbackList.on_epoch_end\u001b[1;34m(self, epoch, logs)\u001b[0m\n\u001b[0;32m    411\u001b[0m logs \u001b[38;5;241m=\u001b[39m \u001b[38;5;28mself\u001b[39m\u001b[38;5;241m.\u001b[39m_process_logs(logs)\n\u001b[0;32m    412\u001b[0m \u001b[38;5;28;01mfor\u001b[39;00m callback \u001b[38;5;129;01min\u001b[39;00m \u001b[38;5;28mself\u001b[39m\u001b[38;5;241m.\u001b[39mcallbacks:\n\u001b[1;32m--> 413\u001b[0m   \u001b[43mcallback\u001b[49m\u001b[38;5;241;43m.\u001b[39;49m\u001b[43mon_epoch_end\u001b[49m\u001b[43m(\u001b[49m\u001b[43mepoch\u001b[49m\u001b[43m,\u001b[49m\u001b[43m \u001b[49m\u001b[43mlogs\u001b[49m\u001b[43m)\u001b[49m\n",
      "File \u001b[1;32m~\\anaconda3\\envs\\tf\\lib\\site-packages\\keras\\callbacks.py:1368\u001b[0m, in \u001b[0;36mModelCheckpoint.on_epoch_end\u001b[1;34m(self, epoch, logs)\u001b[0m\n\u001b[0;32m   1366\u001b[0m \u001b[38;5;66;03m# pylint: disable=protected-access\u001b[39;00m\n\u001b[0;32m   1367\u001b[0m \u001b[38;5;28;01mif\u001b[39;00m \u001b[38;5;28mself\u001b[39m\u001b[38;5;241m.\u001b[39msave_freq \u001b[38;5;241m==\u001b[39m \u001b[38;5;124m'\u001b[39m\u001b[38;5;124mepoch\u001b[39m\u001b[38;5;124m'\u001b[39m:\n\u001b[1;32m-> 1368\u001b[0m   \u001b[38;5;28;43mself\u001b[39;49m\u001b[38;5;241;43m.\u001b[39;49m\u001b[43m_save_model\u001b[49m\u001b[43m(\u001b[49m\u001b[43mepoch\u001b[49m\u001b[38;5;241;43m=\u001b[39;49m\u001b[43mepoch\u001b[49m\u001b[43m,\u001b[49m\u001b[43m \u001b[49m\u001b[43mbatch\u001b[49m\u001b[38;5;241;43m=\u001b[39;49m\u001b[38;5;28;43;01mNone\u001b[39;49;00m\u001b[43m,\u001b[49m\u001b[43m \u001b[49m\u001b[43mlogs\u001b[49m\u001b[38;5;241;43m=\u001b[39;49m\u001b[43mlogs\u001b[49m\u001b[43m)\u001b[49m\n",
      "File \u001b[1;32m~\\anaconda3\\envs\\tf\\lib\\site-packages\\keras\\callbacks.py:1419\u001b[0m, in \u001b[0;36mModelCheckpoint._save_model\u001b[1;34m(self, epoch, batch, logs)\u001b[0m\n\u001b[0;32m   1417\u001b[0m \u001b[38;5;28mself\u001b[39m\u001b[38;5;241m.\u001b[39mbest \u001b[38;5;241m=\u001b[39m current\n\u001b[0;32m   1418\u001b[0m \u001b[38;5;28;01mif\u001b[39;00m \u001b[38;5;28mself\u001b[39m\u001b[38;5;241m.\u001b[39msave_weights_only:\n\u001b[1;32m-> 1419\u001b[0m   \u001b[38;5;28;43mself\u001b[39;49m\u001b[38;5;241;43m.\u001b[39;49m\u001b[43mmodel\u001b[49m\u001b[38;5;241;43m.\u001b[39;49m\u001b[43msave_weights\u001b[49m\u001b[43m(\u001b[49m\n\u001b[0;32m   1420\u001b[0m \u001b[43m      \u001b[49m\u001b[43mfilepath\u001b[49m\u001b[43m,\u001b[49m\u001b[43m \u001b[49m\u001b[43moverwrite\u001b[49m\u001b[38;5;241;43m=\u001b[39;49m\u001b[38;5;28;43;01mTrue\u001b[39;49;00m\u001b[43m,\u001b[49m\u001b[43m \u001b[49m\u001b[43moptions\u001b[49m\u001b[38;5;241;43m=\u001b[39;49m\u001b[38;5;28;43mself\u001b[39;49m\u001b[38;5;241;43m.\u001b[39;49m\u001b[43m_options\u001b[49m\u001b[43m)\u001b[49m\n\u001b[0;32m   1421\u001b[0m \u001b[38;5;28;01melse\u001b[39;00m:\n\u001b[0;32m   1422\u001b[0m   \u001b[38;5;28mself\u001b[39m\u001b[38;5;241m.\u001b[39mmodel\u001b[38;5;241m.\u001b[39msave(filepath, overwrite\u001b[38;5;241m=\u001b[39m\u001b[38;5;28;01mTrue\u001b[39;00m, options\u001b[38;5;241m=\u001b[39m\u001b[38;5;28mself\u001b[39m\u001b[38;5;241m.\u001b[39m_options)\n",
      "File \u001b[1;32m~\\anaconda3\\envs\\tf\\lib\\site-packages\\keras\\engine\\training.py:2258\u001b[0m, in \u001b[0;36mModel.save_weights\u001b[1;34m(self, filepath, overwrite, save_format, options)\u001b[0m\n\u001b[0;32m   2256\u001b[0m \u001b[38;5;28;01melse\u001b[39;00m:\n\u001b[0;32m   2257\u001b[0m   session \u001b[38;5;241m=\u001b[39m backend\u001b[38;5;241m.\u001b[39mget_session()\n\u001b[1;32m-> 2258\u001b[0m \u001b[38;5;28;43mself\u001b[39;49m\u001b[38;5;241;43m.\u001b[39;49m\u001b[43m_trackable_saver\u001b[49m\u001b[38;5;241;43m.\u001b[39;49m\u001b[43msave\u001b[49m\u001b[43m(\u001b[49m\u001b[43mfilepath\u001b[49m\u001b[43m,\u001b[49m\u001b[43m \u001b[49m\u001b[43msession\u001b[49m\u001b[38;5;241;43m=\u001b[39;49m\u001b[43msession\u001b[49m\u001b[43m,\u001b[49m\u001b[43m \u001b[49m\u001b[43moptions\u001b[49m\u001b[38;5;241;43m=\u001b[39;49m\u001b[43moptions\u001b[49m\u001b[43m)\u001b[49m\n\u001b[0;32m   2259\u001b[0m \u001b[38;5;66;03m# Record this checkpoint so it's visible from tf.train.latest_checkpoint.\u001b[39;00m\n\u001b[0;32m   2260\u001b[0m tf\u001b[38;5;241m.\u001b[39m__internal__\u001b[38;5;241m.\u001b[39mtrain\u001b[38;5;241m.\u001b[39mupdate_checkpoint_state(\n\u001b[0;32m   2261\u001b[0m     save_dir\u001b[38;5;241m=\u001b[39mos\u001b[38;5;241m.\u001b[39mpath\u001b[38;5;241m.\u001b[39mdirname(filepath),\n\u001b[0;32m   2262\u001b[0m     model_checkpoint_path\u001b[38;5;241m=\u001b[39mfilepath,\n\u001b[0;32m   2263\u001b[0m     save_relative_paths\u001b[38;5;241m=\u001b[39m\u001b[38;5;28;01mTrue\u001b[39;00m,\n\u001b[0;32m   2264\u001b[0m     all_model_checkpoint_paths\u001b[38;5;241m=\u001b[39m[filepath])\n",
      "File \u001b[1;32m~\\anaconda3\\envs\\tf\\lib\\site-packages\\tensorflow\\python\\training\\tracking\\util.py:1262\u001b[0m, in \u001b[0;36mTrackableSaver.save\u001b[1;34m(self, file_prefix, checkpoint_number, session, options)\u001b[0m\n\u001b[0;32m   1259\u001b[0m   object_graph_tensor \u001b[38;5;241m=\u001b[39m \u001b[38;5;28;01mNone\u001b[39;00m\n\u001b[0;32m   1261\u001b[0m file_io\u001b[38;5;241m.\u001b[39mrecursive_create_dir(os\u001b[38;5;241m.\u001b[39mpath\u001b[38;5;241m.\u001b[39mdirname(file_prefix))\n\u001b[1;32m-> 1262\u001b[0m save_path, new_feed_additions \u001b[38;5;241m=\u001b[39m \u001b[38;5;28;43mself\u001b[39;49m\u001b[38;5;241;43m.\u001b[39;49m\u001b[43m_save_cached_when_graph_building\u001b[49m\u001b[43m(\u001b[49m\n\u001b[0;32m   1263\u001b[0m \u001b[43m    \u001b[49m\u001b[43mfile_prefix_tensor\u001b[49m\u001b[43m,\u001b[49m\u001b[43m \u001b[49m\u001b[43mobject_graph_tensor\u001b[49m\u001b[43m,\u001b[49m\u001b[43m \u001b[49m\u001b[43moptions\u001b[49m\u001b[43m)\u001b[49m\n\u001b[0;32m   1264\u001b[0m \u001b[38;5;28;01mif\u001b[39;00m new_feed_additions:\n\u001b[0;32m   1265\u001b[0m   feed_dict\u001b[38;5;241m.\u001b[39mupdate(new_feed_additions)\n",
      "File \u001b[1;32m~\\anaconda3\\envs\\tf\\lib\\site-packages\\tensorflow\\python\\training\\tracking\\util.py:1208\u001b[0m, in \u001b[0;36mTrackableSaver._save_cached_when_graph_building\u001b[1;34m(self, file_prefix, object_graph_tensor, options)\u001b[0m\n\u001b[0;32m   1201\u001b[0m \u001b[38;5;28;01mif\u001b[39;00m (\u001b[38;5;28mself\u001b[39m\u001b[38;5;241m.\u001b[39m_last_save_object_graph \u001b[38;5;241m!=\u001b[39m graph_proto\n\u001b[0;32m   1202\u001b[0m     \u001b[38;5;66;03m# When executing eagerly, we need to re-create SaveableObjects each time\u001b[39;00m\n\u001b[0;32m   1203\u001b[0m     \u001b[38;5;66;03m# save() is called so they pick up new Tensors passed to their\u001b[39;00m\n\u001b[0;32m   1204\u001b[0m     \u001b[38;5;66;03m# constructors. That means the Saver needs to be copied with a new\u001b[39;00m\n\u001b[0;32m   1205\u001b[0m     \u001b[38;5;66;03m# var_list.\u001b[39;00m\n\u001b[0;32m   1206\u001b[0m     \u001b[38;5;129;01mor\u001b[39;00m context\u001b[38;5;241m.\u001b[39mexecuting_eagerly() \u001b[38;5;129;01mor\u001b[39;00m ops\u001b[38;5;241m.\u001b[39minside_function()):\n\u001b[0;32m   1207\u001b[0m   saver \u001b[38;5;241m=\u001b[39m functional_saver\u001b[38;5;241m.\u001b[39mMultiDeviceSaver(named_saveable_objects)\n\u001b[1;32m-> 1208\u001b[0m   save_op \u001b[38;5;241m=\u001b[39m \u001b[43msaver\u001b[49m\u001b[38;5;241;43m.\u001b[39;49m\u001b[43msave\u001b[49m\u001b[43m(\u001b[49m\u001b[43mfile_prefix\u001b[49m\u001b[43m,\u001b[49m\u001b[43m \u001b[49m\u001b[43moptions\u001b[49m\u001b[38;5;241;43m=\u001b[39;49m\u001b[43moptions\u001b[49m\u001b[43m)\u001b[49m\n\u001b[0;32m   1209\u001b[0m   \u001b[38;5;28;01mwith\u001b[39;00m ops\u001b[38;5;241m.\u001b[39mdevice(\u001b[38;5;124m\"\u001b[39m\u001b[38;5;124m/cpu:0\u001b[39m\u001b[38;5;124m\"\u001b[39m):\n\u001b[0;32m   1210\u001b[0m     \u001b[38;5;28;01mwith\u001b[39;00m ops\u001b[38;5;241m.\u001b[39mcontrol_dependencies([save_op]):\n",
      "File \u001b[1;32m~\\anaconda3\\envs\\tf\\lib\\site-packages\\tensorflow\\python\\training\\saving\\functional_saver.py:300\u001b[0m, in \u001b[0;36mMultiDeviceSaver.save\u001b[1;34m(self, file_prefix, options)\u001b[0m\n\u001b[0;32m    298\u001b[0m   tf_function_save()\n\u001b[0;32m    299\u001b[0m \u001b[38;5;28;01melse\u001b[39;00m:\n\u001b[1;32m--> 300\u001b[0m   \u001b[38;5;28;01mreturn\u001b[39;00m \u001b[43msave_fn\u001b[49m\u001b[43m(\u001b[49m\u001b[43m)\u001b[49m\n",
      "File \u001b[1;32m~\\anaconda3\\envs\\tf\\lib\\site-packages\\tensorflow\\python\\training\\saving\\functional_saver.py:286\u001b[0m, in \u001b[0;36mMultiDeviceSaver.save.<locals>.save_fn\u001b[1;34m()\u001b[0m\n\u001b[0;32m    279\u001b[0m merge_device \u001b[38;5;241m=\u001b[39m (\n\u001b[0;32m    280\u001b[0m     options\u001b[38;5;241m.\u001b[39mexperimental_io_device \u001b[38;5;129;01mor\u001b[39;00m\n\u001b[0;32m    281\u001b[0m     saveable_object_util\u001b[38;5;241m.\u001b[39mset_cpu0(last_device))\n\u001b[0;32m    282\u001b[0m \u001b[38;5;28;01mwith\u001b[39;00m ops\u001b[38;5;241m.\u001b[39mdevice(merge_device):\n\u001b[0;32m    283\u001b[0m   \u001b[38;5;66;03m# V2 format write path consists of a metadata merge step.  Once\u001b[39;00m\n\u001b[0;32m    284\u001b[0m   \u001b[38;5;66;03m# merged, attempts to delete the temporary directory,\u001b[39;00m\n\u001b[0;32m    285\u001b[0m   \u001b[38;5;66;03m# \"<user-fed prefix>_temp\".\u001b[39;00m\n\u001b[1;32m--> 286\u001b[0m   \u001b[38;5;28;01mreturn\u001b[39;00m \u001b[43mgen_io_ops\u001b[49m\u001b[38;5;241;43m.\u001b[39;49m\u001b[43mmerge_v2_checkpoints\u001b[49m\u001b[43m(\u001b[49m\n\u001b[0;32m    287\u001b[0m \u001b[43m      \u001b[49m\u001b[43msharded_prefixes\u001b[49m\u001b[43m,\u001b[49m\u001b[43m \u001b[49m\u001b[43mfile_prefix\u001b[49m\u001b[43m,\u001b[49m\u001b[43m \u001b[49m\u001b[43mdelete_old_dirs\u001b[49m\u001b[38;5;241;43m=\u001b[39;49m\u001b[38;5;28;43;01mTrue\u001b[39;49;00m\u001b[43m)\u001b[49m\n",
      "File \u001b[1;32m~\\anaconda3\\envs\\tf\\lib\\site-packages\\tensorflow\\python\\ops\\gen_io_ops.py:501\u001b[0m, in \u001b[0;36mmerge_v2_checkpoints\u001b[1;34m(checkpoint_prefixes, destination_prefix, delete_old_dirs, name)\u001b[0m\n\u001b[0;32m    499\u001b[0m   \u001b[38;5;28;01mpass\u001b[39;00m\n\u001b[0;32m    500\u001b[0m \u001b[38;5;28;01mtry\u001b[39;00m:\n\u001b[1;32m--> 501\u001b[0m   \u001b[38;5;28;01mreturn\u001b[39;00m \u001b[43mmerge_v2_checkpoints_eager_fallback\u001b[49m\u001b[43m(\u001b[49m\n\u001b[0;32m    502\u001b[0m \u001b[43m      \u001b[49m\u001b[43mcheckpoint_prefixes\u001b[49m\u001b[43m,\u001b[49m\u001b[43m \u001b[49m\u001b[43mdestination_prefix\u001b[49m\u001b[43m,\u001b[49m\n\u001b[0;32m    503\u001b[0m \u001b[43m      \u001b[49m\u001b[43mdelete_old_dirs\u001b[49m\u001b[38;5;241;43m=\u001b[39;49m\u001b[43mdelete_old_dirs\u001b[49m\u001b[43m,\u001b[49m\u001b[43m \u001b[49m\u001b[43mname\u001b[49m\u001b[38;5;241;43m=\u001b[39;49m\u001b[43mname\u001b[49m\u001b[43m,\u001b[49m\u001b[43m \u001b[49m\u001b[43mctx\u001b[49m\u001b[38;5;241;43m=\u001b[39;49m\u001b[43m_ctx\u001b[49m\u001b[43m)\u001b[49m\n\u001b[0;32m    504\u001b[0m \u001b[38;5;28;01mexcept\u001b[39;00m _core\u001b[38;5;241m.\u001b[39m_SymbolicException:\n\u001b[0;32m    505\u001b[0m   \u001b[38;5;28;01mpass\u001b[39;00m  \u001b[38;5;66;03m# Add nodes to the TensorFlow graph.\u001b[39;00m\n",
      "File \u001b[1;32m~\\anaconda3\\envs\\tf\\lib\\site-packages\\tensorflow\\python\\ops\\gen_io_ops.py:526\u001b[0m, in \u001b[0;36mmerge_v2_checkpoints_eager_fallback\u001b[1;34m(checkpoint_prefixes, destination_prefix, delete_old_dirs, name, ctx)\u001b[0m\n\u001b[0;32m    524\u001b[0m _inputs_flat \u001b[38;5;241m=\u001b[39m [checkpoint_prefixes, destination_prefix]\n\u001b[0;32m    525\u001b[0m _attrs \u001b[38;5;241m=\u001b[39m (\u001b[38;5;124m\"\u001b[39m\u001b[38;5;124mdelete_old_dirs\u001b[39m\u001b[38;5;124m\"\u001b[39m, delete_old_dirs)\n\u001b[1;32m--> 526\u001b[0m _result \u001b[38;5;241m=\u001b[39m \u001b[43m_execute\u001b[49m\u001b[38;5;241;43m.\u001b[39;49m\u001b[43mexecute\u001b[49m\u001b[43m(\u001b[49m\u001b[38;5;124;43mb\u001b[39;49m\u001b[38;5;124;43m\"\u001b[39;49m\u001b[38;5;124;43mMergeV2Checkpoints\u001b[39;49m\u001b[38;5;124;43m\"\u001b[39;49m\u001b[43m,\u001b[49m\u001b[43m \u001b[49m\u001b[38;5;241;43m0\u001b[39;49m\u001b[43m,\u001b[49m\u001b[43m \u001b[49m\u001b[43minputs\u001b[49m\u001b[38;5;241;43m=\u001b[39;49m\u001b[43m_inputs_flat\u001b[49m\u001b[43m,\u001b[49m\n\u001b[0;32m    527\u001b[0m \u001b[43m                           \u001b[49m\u001b[43mattrs\u001b[49m\u001b[38;5;241;43m=\u001b[39;49m\u001b[43m_attrs\u001b[49m\u001b[43m,\u001b[49m\u001b[43m \u001b[49m\u001b[43mctx\u001b[49m\u001b[38;5;241;43m=\u001b[39;49m\u001b[43mctx\u001b[49m\u001b[43m,\u001b[49m\u001b[43m \u001b[49m\u001b[43mname\u001b[49m\u001b[38;5;241;43m=\u001b[39;49m\u001b[43mname\u001b[49m\u001b[43m)\u001b[49m\n\u001b[0;32m    528\u001b[0m _result \u001b[38;5;241m=\u001b[39m \u001b[38;5;28;01mNone\u001b[39;00m\n\u001b[0;32m    529\u001b[0m \u001b[38;5;28;01mreturn\u001b[39;00m _result\n",
      "File \u001b[1;32m~\\anaconda3\\envs\\tf\\lib\\site-packages\\tensorflow\\python\\eager\\execute.py:59\u001b[0m, in \u001b[0;36mquick_execute\u001b[1;34m(op_name, num_outputs, inputs, attrs, ctx, name)\u001b[0m\n\u001b[0;32m     57\u001b[0m \u001b[38;5;28;01mtry\u001b[39;00m:\n\u001b[0;32m     58\u001b[0m   ctx\u001b[38;5;241m.\u001b[39mensure_initialized()\n\u001b[1;32m---> 59\u001b[0m   tensors \u001b[38;5;241m=\u001b[39m \u001b[43mpywrap_tfe\u001b[49m\u001b[38;5;241;43m.\u001b[39;49m\u001b[43mTFE_Py_Execute\u001b[49m\u001b[43m(\u001b[49m\u001b[43mctx\u001b[49m\u001b[38;5;241;43m.\u001b[39;49m\u001b[43m_handle\u001b[49m\u001b[43m,\u001b[49m\u001b[43m \u001b[49m\u001b[43mdevice_name\u001b[49m\u001b[43m,\u001b[49m\u001b[43m \u001b[49m\u001b[43mop_name\u001b[49m\u001b[43m,\u001b[49m\n\u001b[0;32m     60\u001b[0m \u001b[43m                                      \u001b[49m\u001b[43minputs\u001b[49m\u001b[43m,\u001b[49m\u001b[43m \u001b[49m\u001b[43mattrs\u001b[49m\u001b[43m,\u001b[49m\u001b[43m \u001b[49m\u001b[43mnum_outputs\u001b[49m\u001b[43m)\u001b[49m\n\u001b[0;32m     61\u001b[0m \u001b[38;5;28;01mexcept\u001b[39;00m core\u001b[38;5;241m.\u001b[39m_NotOkStatusException \u001b[38;5;28;01mas\u001b[39;00m e:\n\u001b[0;32m     62\u001b[0m   \u001b[38;5;28;01mif\u001b[39;00m name \u001b[38;5;129;01mis\u001b[39;00m \u001b[38;5;129;01mnot\u001b[39;00m \u001b[38;5;28;01mNone\u001b[39;00m:\n",
      "\u001b[1;31mUnknownError\u001b[0m: Failed to rename: MLP_hyperparameter\\Covid19\\trial_face235c583c8a23bbb56ca43018870f\\checkpoints\\epoch_0\\checkpoint_temp/part-00000-of-00001.data-00000-of-00001 to: MLP_hyperparameter\\Covid19\\trial_face235c583c8a23bbb56ca43018870f\\checkpoints\\epoch_0\\checkpoint.data-00000-of-00001 : Access is denied.\r\n; Input/output error [Op:MergeV2Checkpoints]"
     ]
    }
   ],
   "source": [
    "tuner.search(X_all_train, \n",
    "             y_all_train, \n",
    "             epochs=100, \n",
    "             validation_data=(X_all_test, y_all_test), \n",
    "             callbacks=[stop_early], \n",
    "             verbose=2)"
   ]
  },
  {
   "cell_type": "code",
   "execution_count": 69,
   "id": "a1b7f329",
   "metadata": {},
   "outputs": [
    {
     "name": "stdout",
     "output_type": "stream",
     "text": [
      "Model: \"sequential_2\"\n",
      "_________________________________________________________________\n",
      "Layer (type)                 Output Shape              Param #   \n",
      "=================================================================\n",
      "dense_5 (Dense)              (None, 80)                16880     \n",
      "_________________________________________________________________\n",
      "dropout_3 (Dropout)          (None, 80)                0         \n",
      "_________________________________________________________________\n",
      "dense_6 (Dense)              (None, 60)                4860      \n",
      "_________________________________________________________________\n",
      "dropout_4 (Dropout)          (None, 60)                0         \n",
      "_________________________________________________________________\n",
      "dense_7 (Dense)              (None, 1)                 61        \n",
      "=================================================================\n",
      "Total params: 21,801\n",
      "Trainable params: 21,801\n",
      "Non-trainable params: 0\n",
      "_________________________________________________________________\n"
     ]
    }
   ],
   "source": [
    "# Refit using the optimal hyperparameters\n",
    "best_hps = tuner.get_best_hyperparameters()[0]\n",
    "h_model = tuner.hypermodel.build(best_hps)\n",
    "\n",
    "h_model.summary()\n",
    "\n",
    "h_model.fit(X_all_train, \n",
    "            y_all_train, \n",
    "            epochs=100, \n",
    "            validation_data=(X_all_test, y_all_test), \n",
    "            callbacks=[stop_early], \n",
    "            verbose=2)"
   ]
  },
  {
   "cell_type": "markdown",
   "id": "3a398bb8",
   "metadata": {},
   "source": [
    "### 3.1. Overall Performance"
   ]
  },
  {
   "cell_type": "code",
   "execution_count": 71,
   "id": "1bcf0c71",
   "metadata": {},
   "outputs": [
    {
     "data": {
      "text/plain": [
       "RMSE     1.540566e-01\n",
       "MAE      1.027930e-01\n",
       "MAPE     2.613917e+13\n",
       "sMAPE    1.041758e-01\n",
       "R2      -2.286672e-01\n",
       "Name: all, dtype: float64"
      ]
     },
     "execution_count": 71,
     "metadata": {},
     "output_type": "execute_result"
    }
   ],
   "source": [
    "mlp_pred_1step = h_model.predict(X_all_test)\n",
    "\n",
    "pd.Series(evaluate(y_true=y_all_test, \n",
    "          y_pred=mlp_pred_1step), \n",
    "          name='all')"
   ]
  },
  {
   "cell_type": "markdown",
   "id": "95cf18cc",
   "metadata": {},
   "source": [
    "### By Country "
   ]
  },
  {
   "cell_type": "code",
   "execution_count": 74,
   "id": "e7d2e03b",
   "metadata": {},
   "outputs": [
    {
     "data": {
      "text/html": [
       "<div>\n",
       "<style scoped>\n",
       "    .dataframe tbody tr th:only-of-type {\n",
       "        vertical-align: middle;\n",
       "    }\n",
       "\n",
       "    .dataframe tbody tr th {\n",
       "        vertical-align: top;\n",
       "    }\n",
       "\n",
       "    .dataframe thead th {\n",
       "        text-align: right;\n",
       "    }\n",
       "</style>\n",
       "<table border=\"1\" class=\"dataframe\">\n",
       "  <thead>\n",
       "    <tr style=\"text-align: right;\">\n",
       "      <th></th>\n",
       "      <th>Albania</th>\n",
       "      <th>Andorra</th>\n",
       "      <th>Austria</th>\n",
       "      <th>Azerbaijan</th>\n",
       "      <th>Belarus</th>\n",
       "      <th>Belgium</th>\n",
       "      <th>Bosnia and Herzegovina</th>\n",
       "      <th>Bulgaria</th>\n",
       "      <th>Croatia</th>\n",
       "      <th>Cyprus</th>\n",
       "      <th>...</th>\n",
       "      <th>Scotland</th>\n",
       "      <th>Serbia</th>\n",
       "      <th>Slovak Republic</th>\n",
       "      <th>Slovenia</th>\n",
       "      <th>Spain</th>\n",
       "      <th>Sweden</th>\n",
       "      <th>Switzerland</th>\n",
       "      <th>Turkey</th>\n",
       "      <th>Ukraine</th>\n",
       "      <th>Wales</th>\n",
       "    </tr>\n",
       "  </thead>\n",
       "  <tbody>\n",
       "    <tr>\n",
       "      <th>RMSE</th>\n",
       "      <td>0.116353</td>\n",
       "      <td>0.216892</td>\n",
       "      <td>0.091278</td>\n",
       "      <td>0.083966</td>\n",
       "      <td>0.052046</td>\n",
       "      <td>0.111105</td>\n",
       "      <td>0.103859</td>\n",
       "      <td>0.109345</td>\n",
       "      <td>0.081978</td>\n",
       "      <td>0.280608</td>\n",
       "      <td>...</td>\n",
       "      <td>0.067821</td>\n",
       "      <td>0.104545</td>\n",
       "      <td>0.107897</td>\n",
       "      <td>0.090265</td>\n",
       "      <td>0.065979</td>\n",
       "      <td>0.182884</td>\n",
       "      <td>0.068160</td>\n",
       "      <td>0.026422</td>\n",
       "      <td>0.046822</td>\n",
       "      <td>0.044124</td>\n",
       "    </tr>\n",
       "    <tr>\n",
       "      <th>MAE</th>\n",
       "      <td>0.113312</td>\n",
       "      <td>0.166325</td>\n",
       "      <td>0.085309</td>\n",
       "      <td>0.082187</td>\n",
       "      <td>0.048052</td>\n",
       "      <td>0.104453</td>\n",
       "      <td>0.098955</td>\n",
       "      <td>0.095963</td>\n",
       "      <td>0.072924</td>\n",
       "      <td>0.244713</td>\n",
       "      <td>...</td>\n",
       "      <td>0.054564</td>\n",
       "      <td>0.099311</td>\n",
       "      <td>0.096051</td>\n",
       "      <td>0.081548</td>\n",
       "      <td>0.059406</td>\n",
       "      <td>0.165786</td>\n",
       "      <td>0.065453</td>\n",
       "      <td>0.025203</td>\n",
       "      <td>0.043011</td>\n",
       "      <td>0.042559</td>\n",
       "    </tr>\n",
       "    <tr>\n",
       "      <th>MAPE</th>\n",
       "      <td>0.118177</td>\n",
       "      <td>0.129777</td>\n",
       "      <td>0.085753</td>\n",
       "      <td>0.082883</td>\n",
       "      <td>0.047014</td>\n",
       "      <td>0.107502</td>\n",
       "      <td>0.100555</td>\n",
       "      <td>0.100216</td>\n",
       "      <td>0.072893</td>\n",
       "      <td>0.324358</td>\n",
       "      <td>...</td>\n",
       "      <td>0.053249</td>\n",
       "      <td>0.104960</td>\n",
       "      <td>0.098364</td>\n",
       "      <td>0.082892</td>\n",
       "      <td>0.057995</td>\n",
       "      <td>0.176131</td>\n",
       "      <td>0.063999</td>\n",
       "      <td>0.024784</td>\n",
       "      <td>0.042800</td>\n",
       "      <td>0.039524</td>\n",
       "    </tr>\n",
       "    <tr>\n",
       "      <th>sMAPE</th>\n",
       "      <td>0.111188</td>\n",
       "      <td>0.137800</td>\n",
       "      <td>0.081678</td>\n",
       "      <td>0.079431</td>\n",
       "      <td>0.046028</td>\n",
       "      <td>0.101235</td>\n",
       "      <td>0.095458</td>\n",
       "      <td>0.093889</td>\n",
       "      <td>0.069645</td>\n",
       "      <td>0.261454</td>\n",
       "      <td>...</td>\n",
       "      <td>0.051876</td>\n",
       "      <td>0.099093</td>\n",
       "      <td>0.092550</td>\n",
       "      <td>0.078840</td>\n",
       "      <td>0.055980</td>\n",
       "      <td>0.166871</td>\n",
       "      <td>0.061841</td>\n",
       "      <td>0.024450</td>\n",
       "      <td>0.041731</td>\n",
       "      <td>0.039448</td>\n",
       "    </tr>\n",
       "    <tr>\n",
       "      <th>R2</th>\n",
       "      <td>-15.605339</td>\n",
       "      <td>-0.047762</td>\n",
       "      <td>-6.748544</td>\n",
       "      <td>-24.546101</td>\n",
       "      <td>-0.574874</td>\n",
       "      <td>-8.429089</td>\n",
       "      <td>-1.939380</td>\n",
       "      <td>-1.736112</td>\n",
       "      <td>-3.915533</td>\n",
       "      <td>-2.907724</td>\n",
       "      <td>...</td>\n",
       "      <td>0.275710</td>\n",
       "      <td>-9.738826</td>\n",
       "      <td>-3.355849</td>\n",
       "      <td>-2.825039</td>\n",
       "      <td>-4.771396</td>\n",
       "      <td>-0.261294</td>\n",
       "      <td>-13.022763</td>\n",
       "      <td>-4.800535</td>\n",
       "      <td>-5.849714</td>\n",
       "      <td>-0.004156</td>\n",
       "    </tr>\n",
       "  </tbody>\n",
       "</table>\n",
       "<p>5 rows × 51 columns</p>\n",
       "</div>"
      ],
      "text/plain": [
       "         Albania   Andorra   Austria  Azerbaijan   Belarus   Belgium  \\\n",
       "RMSE    0.116353  0.216892  0.091278    0.083966  0.052046  0.111105   \n",
       "MAE     0.113312  0.166325  0.085309    0.082187  0.048052  0.104453   \n",
       "MAPE    0.118177  0.129777  0.085753    0.082883  0.047014  0.107502   \n",
       "sMAPE   0.111188  0.137800  0.081678    0.079431  0.046028  0.101235   \n",
       "R2    -15.605339 -0.047762 -6.748544  -24.546101 -0.574874 -8.429089   \n",
       "\n",
       "       Bosnia and Herzegovina  Bulgaria   Croatia    Cyprus  ...  Scotland  \\\n",
       "RMSE                 0.103859  0.109345  0.081978  0.280608  ...  0.067821   \n",
       "MAE                  0.098955  0.095963  0.072924  0.244713  ...  0.054564   \n",
       "MAPE                 0.100555  0.100216  0.072893  0.324358  ...  0.053249   \n",
       "sMAPE                0.095458  0.093889  0.069645  0.261454  ...  0.051876   \n",
       "R2                  -1.939380 -1.736112 -3.915533 -2.907724  ...  0.275710   \n",
       "\n",
       "         Serbia  Slovak Republic  Slovenia     Spain    Sweden  Switzerland  \\\n",
       "RMSE   0.104545         0.107897  0.090265  0.065979  0.182884     0.068160   \n",
       "MAE    0.099311         0.096051  0.081548  0.059406  0.165786     0.065453   \n",
       "MAPE   0.104960         0.098364  0.082892  0.057995  0.176131     0.063999   \n",
       "sMAPE  0.099093         0.092550  0.078840  0.055980  0.166871     0.061841   \n",
       "R2    -9.738826        -3.355849 -2.825039 -4.771396 -0.261294   -13.022763   \n",
       "\n",
       "         Turkey   Ukraine     Wales  \n",
       "RMSE   0.026422  0.046822  0.044124  \n",
       "MAE    0.025203  0.043011  0.042559  \n",
       "MAPE   0.024784  0.042800  0.039524  \n",
       "sMAPE  0.024450  0.041731  0.039448  \n",
       "R2    -4.800535 -5.849714 -0.004156  \n",
       "\n",
       "[5 rows x 51 columns]"
      ]
     },
     "execution_count": 74,
     "metadata": {},
     "output_type": "execute_result"
    }
   ],
   "source": [
    "mlp_1step_df = pd.DataFrame()\n",
    "\n",
    "for country in country_list:\n",
    "    temp = pd.Series(evaluate(y_true=y_all_test_dict[country], \n",
    "                              y_pred=h_model.predict(X_all_test_dict[country])), \n",
    "                     name=country)\n",
    "    mlp_1step_df = pd.concat([mlp_1step_df, temp], axis='columns')\n",
    "\n",
    "mlp_1step_df"
   ]
  },
  {
   "cell_type": "markdown",
   "id": "1636a5de",
   "metadata": {},
   "source": [
    "# LSTM"
   ]
  },
  {
   "cell_type": "code",
   "execution_count": 44,
   "id": "c7a2c9b7",
   "metadata": {},
   "outputs": [],
   "source": [
    "X_all_train_lstm = X_all_train.reshape(-1, T, n_features)\n",
    "X_all_test_lstm = X_all_test.reshape(-1, T, n_features) "
   ]
  },
  {
   "cell_type": "code",
   "execution_count": 34,
   "id": "96e78252",
   "metadata": {},
   "outputs": [
    {
     "data": {
      "text/plain": [
       "(11067, 21, 11)"
      ]
     },
     "execution_count": 34,
     "metadata": {},
     "output_type": "execute_result"
    }
   ],
   "source": [
    "X_all_train_lstm.shape"
   ]
  },
  {
   "cell_type": "code",
   "execution_count": 45,
   "id": "b2d5b614",
   "metadata": {},
   "outputs": [],
   "source": [
    "def model_builder_lstm(hp):\n",
    "    \n",
    "    # Initialize sequential API and start building model.\n",
    "    model = keras.models.Sequential()\n",
    "    model.add(keras.layers.Input(shape=(T, n_features)))\n",
    "    \n",
    "    # Tune the number of hidden layers and units in each.\n",
    "    # Number of hidden layers: 1 - 5\n",
    "    # Number of Units: 32 - 512 with stepsize of 32\n",
    "    for i in range(1, hp.Int(\"num_layers\", 1, 4)):\n",
    "        model.add(\n",
    "            keras.layers.LSTM(\n",
    "                units=hp.Int(\"units_\" + str(i), min_value=5, max_value=205, step=20),\n",
    "                activation=\"tanh\", return_sequences=True)\n",
    "            )\n",
    "        \n",
    "        # Tune dropout layer with values from 0 - 0.3 with stepsize of 0.1.\n",
    "        model.add(keras.layers.Dropout(hp.Float(\"dropout_\" + str(i), 0, 0.5, step=0.1)))\n",
    "    \n",
    "    # Aggregating Layer\n",
    "    model.add(keras.layers.GlobalMaxPool1D())\n",
    "    \n",
    "    # Add output layer.\n",
    "    model.add(keras.layers.Dense(1))\n",
    "    \n",
    "    # Tune learning rate for Adam optimizer with values from 0.01, 0.001, or 0.0001\n",
    "    hp_learning_rate = hp.Choice(\"learning_rate\", values=[1e-2, 1e-3, 1e-4])\n",
    "    \n",
    "    # Define optimizer, loss, and metrics\n",
    "    model.compile(optimizer=keras.optimizers.adam_v2.Adam(learning_rate=hp_learning_rate),\n",
    "                  loss='mse',\n",
    "                  metrics=[\"mae\", \"mse\"])\n",
    "    \n",
    "    return model"
   ]
  },
  {
   "cell_type": "code",
   "execution_count": 46,
   "id": "06fbe2c1",
   "metadata": {},
   "outputs": [
    {
     "name": "stdout",
     "output_type": "stream",
     "text": [
      "INFO:tensorflow:Reloading Oracle from existing project LSTM_hyperparameter\\Covid19\\oracle.json\n",
      "INFO:tensorflow:Reloading Tuner from LSTM_hyperparameter\\Covid19\\tuner0.json\n"
     ]
    }
   ],
   "source": [
    "tuner_lstm = kt.Hyperband(hypermodel=model_builder_lstm,\n",
    "                         objective = kt.Objective('val_mse', direction=\"min\"),\n",
    "                         max_epochs=100,\n",
    "                         factor=3,\n",
    "                         directory='LSTM_hyperparameter',\n",
    "                         project_name='Covid19')\n",
    "\n",
    "stop_early = keras.callbacks.EarlyStopping(monitor='val_mse', patience=5)"
   ]
  },
  {
   "cell_type": "code",
   "execution_count": null,
   "id": "65e63510",
   "metadata": {},
   "outputs": [],
   "source": [
    "tuner_lstm.search(X_all_train_lstm, \n",
    "                 y_all_train, \n",
    "                 epochs=100, \n",
    "                 validation_data=(X_all_test_lstm, y_all_test), \n",
    "                 callbacks=[stop_early], verbose=2)"
   ]
  },
  {
   "cell_type": "code",
   "execution_count": 38,
   "id": "38b7895e",
   "metadata": {},
   "outputs": [
    {
     "name": "stdout",
     "output_type": "stream",
     "text": [
      "Model: \"sequential_2\"\n",
      "_________________________________________________________________\n",
      "Layer (type)                 Output Shape              Param #   \n",
      "=================================================================\n",
      "lstm_2 (LSTM)                (None, 21, 5)             340       \n",
      "_________________________________________________________________\n",
      "dropout_2 (Dropout)          (None, 21, 5)             0         \n",
      "_________________________________________________________________\n",
      "lstm_3 (LSTM)                (None, 21, 5)             220       \n",
      "_________________________________________________________________\n",
      "dropout_3 (Dropout)          (None, 21, 5)             0         \n",
      "_________________________________________________________________\n",
      "global_max_pooling1d_2 (Glob (None, 5)                 0         \n",
      "_________________________________________________________________\n",
      "dense_2 (Dense)              (None, 1)                 6         \n",
      "=================================================================\n",
      "Total params: 566\n",
      "Trainable params: 566\n",
      "Non-trainable params: 0\n",
      "_________________________________________________________________\n"
     ]
    }
   ],
   "source": [
    "best_hps_lstm = tuner_lstm.get_best_hyperparameters()[0]\n",
    "h_lstm = tuner_lstm.hypermodel.build(best_hps_lstm)\n",
    "\n",
    "h_lstm.summary()"
   ]
  },
  {
   "cell_type": "code",
   "execution_count": 104,
   "id": "3d27b3f5",
   "metadata": {
    "scrolled": true
   },
   "outputs": [
    {
     "name": "stdout",
     "output_type": "stream",
     "text": [
      "Epoch 1/100\n",
      "346/346 - 39s - loss: 0.0795 - mae: 0.1675 - mse: 0.0795 - val_loss: 0.0193 - val_mae: 0.0682 - val_mse: 0.0193\n",
      "Epoch 2/100\n",
      "346/346 - 27s - loss: 0.0437 - mae: 0.0951 - mse: 0.0437 - val_loss: 0.0193 - val_mae: 0.0672 - val_mse: 0.0193\n",
      "Epoch 3/100\n",
      "346/346 - 22s - loss: 0.0434 - mae: 0.0947 - mse: 0.0434 - val_loss: 0.0201 - val_mae: 0.0720 - val_mse: 0.0201\n",
      "Epoch 4/100\n",
      "346/346 - 21s - loss: 0.0432 - mae: 0.0948 - mse: 0.0432 - val_loss: 0.0197 - val_mae: 0.0722 - val_mse: 0.0197\n",
      "Epoch 5/100\n",
      "346/346 - 21s - loss: 0.0438 - mae: 0.0975 - mse: 0.0438 - val_loss: 0.0193 - val_mae: 0.0662 - val_mse: 0.0193\n",
      "Epoch 6/100\n",
      "346/346 - 21s - loss: 0.0435 - mae: 0.0964 - mse: 0.0435 - val_loss: 0.0194 - val_mae: 0.0662 - val_mse: 0.0194\n"
     ]
    },
    {
     "data": {
      "text/plain": [
       "<keras.callbacks.History at 0x13f42efe250>"
      ]
     },
     "execution_count": 104,
     "metadata": {},
     "output_type": "execute_result"
    }
   ],
   "source": [
    "best_hps_lstm = tuner_lstm.get_best_hyperparameters()[0]\n",
    "h_lstm = tuner_lstm.hypermodel.build(best_hps_lstm)\n",
    "h_lstm.fit(X_all_train_lstm, \n",
    "            y_all_train, \n",
    "            epochs=100, \n",
    "            validation_data=(X_all_test_lstm, y_all_test), \n",
    "            callbacks=[stop_early], \n",
    "            verbose=2)"
   ]
  },
  {
   "cell_type": "markdown",
   "id": "fd854e0b",
   "metadata": {},
   "source": [
    "### 3.1. Overall Performance"
   ]
  },
  {
   "cell_type": "code",
   "execution_count": 115,
   "id": "3af4dcf9",
   "metadata": {},
   "outputs": [
    {
     "data": {
      "text/plain": [
       "(1, 21, 10)"
      ]
     },
     "execution_count": 115,
     "metadata": {},
     "output_type": "execute_result"
    }
   ],
   "source": [
    "X_all_test_lstm[0:1].shape"
   ]
  },
  {
   "cell_type": "code",
   "execution_count": 118,
   "id": "761c6181",
   "metadata": {},
   "outputs": [
    {
     "name": "stdout",
     "output_type": "stream",
     "text": [
      "Model: \"sequential_3\"\n",
      "_________________________________________________________________\n",
      "Layer (type)                 Output Shape              Param #   \n",
      "=================================================================\n",
      "lstm_1 (LSTM)                (None, 21, 145)           90480     \n",
      "_________________________________________________________________\n",
      "dropout_7 (Dropout)          (None, 21, 145)           0         \n",
      "_________________________________________________________________\n",
      "lstm_2 (LSTM)                (None, 21, 145)           168780    \n",
      "_________________________________________________________________\n",
      "dropout_8 (Dropout)          (None, 21, 145)           0         \n",
      "_________________________________________________________________\n",
      "lstm_3 (LSTM)                (None, 21, 5)             3020      \n",
      "_________________________________________________________________\n",
      "dropout_9 (Dropout)          (None, 21, 5)             0         \n",
      "_________________________________________________________________\n",
      "dense_9 (Dense)              (None, 21, 1)             6         \n",
      "=================================================================\n",
      "Total params: 262,286\n",
      "Trainable params: 262,286\n",
      "Non-trainable params: 0\n",
      "_________________________________________________________________\n"
     ]
    }
   ],
   "source": [
    "h_lstm.summary()"
   ]
  },
  {
   "cell_type": "code",
   "execution_count": 116,
   "id": "0101c175",
   "metadata": {},
   "outputs": [
    {
     "data": {
      "text/plain": [
       "array([[[1.0061033],\n",
       "        [1.0042149],\n",
       "        [1.0040555],\n",
       "        [1.0040313],\n",
       "        [1.0040228],\n",
       "        [1.0040193],\n",
       "        [1.0040171],\n",
       "        [1.0040158],\n",
       "        [1.0040148],\n",
       "        [1.0040139],\n",
       "        [1.0040132],\n",
       "        [1.0040123],\n",
       "        [1.0040116],\n",
       "        [1.0040109],\n",
       "        [1.0040102],\n",
       "        [1.0040096],\n",
       "        [1.004009 ],\n",
       "        [1.0040084],\n",
       "        [1.0040079],\n",
       "        [1.0040075],\n",
       "        [1.0040069]]], dtype=float32)"
      ]
     },
     "execution_count": 116,
     "metadata": {},
     "output_type": "execute_result"
    }
   ],
   "source": [
    "h_lstm.predict(X_all_test_lstm[0:1])"
   ]
  },
  {
   "cell_type": "code",
   "execution_count": 108,
   "id": "5eea8288",
   "metadata": {},
   "outputs": [
    {
     "data": {
      "text/plain": [
       "(357, 21, 1)"
      ]
     },
     "execution_count": 108,
     "metadata": {},
     "output_type": "execute_result"
    }
   ],
   "source": [
    "lstm_pred_1step.shape"
   ]
  },
  {
   "cell_type": "code",
   "execution_count": null,
   "id": "6a025fdc",
   "metadata": {},
   "outputs": [],
   "source": [
    "lstm_pred_1step = h_lstm.predict(X_all_test_lstm)\n",
    "\n",
    "pd.Series(evaluate(y_true=y_all_test, \n",
    "          y_pred=lstm_pred_1step), \n",
    "          name='all')"
   ]
  }
 ],
 "metadata": {
  "kernelspec": {
   "display_name": "tf",
   "language": "python",
   "name": "tf"
  },
  "language_info": {
   "codemirror_mode": {
    "name": "ipython",
    "version": 3
   },
   "file_extension": ".py",
   "mimetype": "text/x-python",
   "name": "python",
   "nbconvert_exporter": "python",
   "pygments_lexer": "ipython3",
   "version": "3.9.7"
  }
 },
 "nbformat": 4,
 "nbformat_minor": 5
}
