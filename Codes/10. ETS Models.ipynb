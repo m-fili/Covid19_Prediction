{
 "cells": [
  {
   "cell_type": "code",
   "execution_count": 1,
   "id": "95f96085",
   "metadata": {},
   "outputs": [],
   "source": [
    "import pandas as pd\n",
    "import numpy as np"
   ]
  },
  {
   "cell_type": "code",
   "execution_count": 4,
   "id": "eca9373a",
   "metadata": {},
   "outputs": [],
   "source": [
    "df = pd.read_csv('../Data/Sample/airline_passengers.csv')"
   ]
  },
  {
   "cell_type": "markdown",
   "id": "0cd51517",
   "metadata": {},
   "source": [
    "# Smoothing Methods "
   ]
  },
  {
   "cell_type": "code",
   "execution_count": null,
   "id": "429e92bb",
   "metadata": {},
   "outputs": [],
   "source": [
    "# Simple Moving Average (SMA)\n",
    "pd.Series().rolling(WINDOW_SIZE).mean()\n",
    "\n",
    "# Exponential Weighted Moving Average (EWMA)\n",
    "pd.Series().ewm(alpha=ALPHA, adjust=False)"
   ]
  },
  {
   "cell_type": "markdown",
   "id": "8c5b10c1",
   "metadata": {},
   "source": [
    "# Holt-Winters Models"
   ]
  },
  {
   "cell_type": "markdown",
   "id": "8b2ec2d5",
   "metadata": {},
   "source": [
    "**Time series frequencies:**  \n",
    "https://pandas.pydata.org/pandas-docs/stable/user_guide/timeseries.html"
   ]
  },
  {
   "cell_type": "markdown",
   "id": "8c02148a",
   "metadata": {},
   "source": [
    "### 1. Simple Exponential Smoothing "
   ]
  },
  {
   "cell_type": "code",
   "execution_count": null,
   "id": "dc0c7a80",
   "metadata": {},
   "outputs": [],
   "source": [
    "from statsmodels.tsa.holtwinters import SimpleExpSmoothing\n",
    "\n",
    "ses = SimpleExpSmoothing(x)\n",
    "ses.fit()  # if don't specify alpha, it will optimize it for the given set\n",
    "\n",
    "ses.predict(start, end) # giving the first and last index to predict\n",
    "ses.forcast(5)          # forecast t+1, t+2, ..., t+5\n",
    "ses.fittedvalues        # give the prediction for the training data"
   ]
  },
  {
   "cell_type": "markdown",
   "id": "ccde7622",
   "metadata": {},
   "source": [
    "### 2. Holt's linear trend model "
   ]
  },
  {
   "cell_type": "code",
   "execution_count": null,
   "id": "c9acfc80",
   "metadata": {},
   "outputs": [],
   "source": [
    "from statsmodels.tsa.holtwinters import Holt\n",
    "\n",
    "holt = Holt(x)\n",
    "holt.fit() "
   ]
  }
 ],
 "metadata": {
  "kernelspec": {
   "display_name": "Python 3",
   "language": "python",
   "name": "python3"
  },
  "language_info": {
   "codemirror_mode": {
    "name": "ipython",
    "version": 3
   },
   "file_extension": ".py",
   "mimetype": "text/x-python",
   "name": "python",
   "nbconvert_exporter": "python",
   "pygments_lexer": "ipython3",
   "version": "3.8.8"
  }
 },
 "nbformat": 4,
 "nbformat_minor": 5
}
