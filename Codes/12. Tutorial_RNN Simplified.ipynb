{
 "cells": [
  {
   "cell_type": "code",
   "execution_count": 3,
   "id": "c065d37d",
   "metadata": {},
   "outputs": [],
   "source": [
    "from keras.layers import Dense, Input, SimpleRNN, Embedding\n",
    "from keras.models import Model, Sequential\n",
    "\n",
    "import numpy as np\n",
    "import pandas as pd"
   ]
  },
  {
   "cell_type": "code",
   "execution_count": 66,
   "id": "9688ade5",
   "metadata": {},
   "outputs": [],
   "source": [
    "N = 2\n",
    "T = 10\n",
    "D = 3\n",
    "K = 2\n",
    "X = np.random.randn(N, T, D)"
   ]
  },
  {
   "cell_type": "code",
   "execution_count": 67,
   "id": "46d26501",
   "metadata": {},
   "outputs": [],
   "source": [
    "M = 5\n",
    "\n",
    "i = Input(shape=(T, D))\n",
    "x = SimpleRNN(M)(i)\n",
    "x = Dense(K)(x)\n",
    "\n",
    "model = Model(i, x)"
   ]
  },
  {
   "cell_type": "code",
   "execution_count": 77,
   "id": "45d39c6e",
   "metadata": {},
   "outputs": [
    {
     "data": {
      "text/plain": [
       "array([[-0.41234285, -0.18723589],\n",
       "       [ 0.13118851, -0.58032525]], dtype=float32)"
      ]
     },
     "execution_count": 77,
     "metadata": {},
     "output_type": "execute_result"
    }
   ],
   "source": [
    "model.predict(X)"
   ]
  },
  {
   "cell_type": "code",
   "execution_count": 69,
   "id": "129eabb3",
   "metadata": {},
   "outputs": [
    {
     "name": "stdout",
     "output_type": "stream",
     "text": [
      "Model: \"model_4\"\n",
      "_________________________________________________________________\n",
      "Layer (type)                 Output Shape              Param #   \n",
      "=================================================================\n",
      "input_5 (InputLayer)         [(None, 10, 3)]           0         \n",
      "_________________________________________________________________\n",
      "simple_rnn_4 (SimpleRNN)     (None, 5)                 45        \n",
      "_________________________________________________________________\n",
      "dense_4 (Dense)              (None, 2)                 12        \n",
      "=================================================================\n",
      "Total params: 57\n",
      "Trainable params: 57\n",
      "Non-trainable params: 0\n",
      "_________________________________________________________________\n"
     ]
    }
   ],
   "source": [
    "model.summary()"
   ]
  },
  {
   "cell_type": "code",
   "execution_count": 70,
   "id": "71b26291",
   "metadata": {},
   "outputs": [],
   "source": [
    "w_x, w_h, b_h = model.layers[1].get_weights()\n",
    "w_o, b_o = model.layers[2].get_weights()"
   ]
  },
  {
   "cell_type": "markdown",
   "id": "c368504b",
   "metadata": {},
   "source": [
    "### For one obs."
   ]
  },
  {
   "cell_type": "code",
   "execution_count": 133,
   "id": "38bcd889",
   "metadata": {},
   "outputs": [
    {
     "name": "stdout",
     "output_type": "stream",
     "text": [
      "[-0.41234287 -0.18723583]\n"
     ]
    }
   ],
   "source": [
    "x = X[0]\n",
    "h_last = np.zeros(M)\n",
    "\n",
    "for j in range(T):\n",
    "    h = np.tanh(x[j].dot(w_x) + h_last.dot(w_h) + b_h)\n",
    "    h_last = h\n",
    "    y = h.dot(w_o) + b_o\n",
    "\n",
    "print(y)"
   ]
  },
  {
   "cell_type": "markdown",
   "id": "fc8cf26c",
   "metadata": {},
   "source": [
    "### For Multiple Observations"
   ]
  },
  {
   "cell_type": "code",
   "execution_count": 135,
   "id": "53356f71",
   "metadata": {},
   "outputs": [
    {
     "name": "stdout",
     "output_type": "stream",
     "text": [
      "[[-0.41234287 -0.18723583]\n",
      " [ 0.13118844 -0.58032528]]\n"
     ]
    }
   ],
   "source": [
    "yhat = np.array([]).reshape(0, K)\n",
    "\n",
    "for n in range(len(X)):\n",
    "    x = X[n]\n",
    "    h_last = np.zeros(M)\n",
    "    for j in range(T):\n",
    "        h = np.tanh(x[j].dot(w_x) + h_last.dot(w_h) + b_h)\n",
    "        h_last = h\n",
    "        y = h.dot(w_o) + b_o\n",
    "    yhat = np.concatenate((yhat, np.expand_dims(y, 0)))\n",
    "\n",
    "print(yhat)"
   ]
  }
 ],
 "metadata": {
  "kernelspec": {
   "display_name": "tf",
   "language": "python",
   "name": "tf"
  },
  "language_info": {
   "codemirror_mode": {
    "name": "ipython",
    "version": 3
   },
   "file_extension": ".py",
   "mimetype": "text/x-python",
   "name": "python",
   "nbconvert_exporter": "python",
   "pygments_lexer": "ipython3",
   "version": "3.9.7"
  }
 },
 "nbformat": 4,
 "nbformat_minor": 5
}
